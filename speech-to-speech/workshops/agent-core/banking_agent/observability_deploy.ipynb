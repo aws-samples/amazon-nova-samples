{
 "cells": [
  {
   "cell_type": "markdown",
   "id": "b6d95f9a",
   "metadata": {},
   "source": [
    "# Setup Agents on AgentCore Runtime with filtered Instrumentation"
   ]
  },
  {
   "cell_type": "markdown",
   "id": "b1f49c0d",
   "metadata": {},
   "source": [
    "## Prerequisites\n",
    "\n",
    "- Enable transaction search on Amazon CloudWatch. First-time users must enable CloudWatch Transaction Search to view Bedrock AgentCore spans and traces. To enable transaction search, please refer to the our documentation.\n",
    "\n",
    "<img src=\"../images/transactional_search.png\" width=\"75%\"/>\n",
    "\n",
    "\n",
    "- Log group and Log stream configured on Amazon Cloudwatch to be added to the environment variables."
   ]
  },
  {
   "cell_type": "code",
   "execution_count": null,
   "id": "79066ada",
   "metadata": {},
   "outputs": [],
   "source": [
    "from bedrock_agentcore_starter_toolkit import Runtime\n",
    "import boto3\n",
    "import time, argparse, os\n",
    "\n",
    "region = os.environ.get(\"AWS_DEFAULT_REGION\", \"us-east-1\")\n",
    "\n",
    "agent_name = \"banking_runtime_agent\"\n",
    "entrypoint = \"./banking_agent.py\"\n",
    "\n",
    "# Prepare docker file\n",
    "agentcore_runtime = Runtime()"
   ]
  },
  {
   "cell_type": "code",
   "execution_count": null,
   "id": "d45ce097",
   "metadata": {},
   "outputs": [],
   "source": [
    "import boto3\n",
    "cloudwatch_client = boto3.client(\"logs\", region_name=region)\n",
    "response = cloudwatch_client.create_log_group(\n",
    "    logGroupName='bedrock-agentcore-observability'\n",
    ")\n",
    "response"
   ]
  },
  {
   "cell_type": "code",
   "execution_count": null,
   "id": "38f6574b",
   "metadata": {},
   "outputs": [],
   "source": [
    "response = cloudwatch_client.create_log_stream(\n",
    "    logGroupName='bedrock-agentcore-observability',\n",
    "    logStreamName='default'\n",
    ")\n",
    "response"
   ]
  },
  {
   "cell_type": "code",
   "execution_count": null,
   "id": "b8a003ed",
   "metadata": {},
   "outputs": [],
   "source": [
    "\n",
    "response = agentcore_runtime.configure(\n",
    "    entrypoint=entrypoint,\n",
    "    auto_create_execution_role=True,\n",
    "    auto_create_ecr=True,\n",
    "    requirements_file=\"requirements.txt\",\n",
    "    region=region,\n",
    "    agent_name=agent_name\n",
    ")\n",
    "print(f\"Initialized docker file for {agent_name}\")"
   ]
  },
  {
   "cell_type": "code",
   "execution_count": null,
   "id": "13e7709a",
   "metadata": {},
   "outputs": [],
   "source": [
    "# Update the docker with the below environment variables for instrumentation with filtering\n",
    "\n",
    "def modify_dockerfile(dockerfile_path, env_vars):\n",
    "    \"\"\"\n",
    "    Read a Dockerfile, add environment variable definitions, and write it back.\n",
    "    \n",
    "    Args:\n",
    "        dockerfile_path (str): Path to the Dockerfile\n",
    "        env_vars (dict): Dictionary of environment variables to add (key-value pairs)\n",
    "    \n",
    "    Returns:\n",
    "        bool: True if successful, False otherwise\n",
    "    \"\"\"\n",
    "    try:\n",
    "        # Read the Dockerfile\n",
    "        with open(dockerfile_path, 'r') as file:\n",
    "            content = file.readlines()\n",
    "        \n",
    "        # Find the best position to add environment variables\n",
    "        # Strategy: Look for existing ENV statements and add after the last one\n",
    "        # If no ENV statements, add after the WORKDIR statement\n",
    "        # If no WORKDIR, add after the FROM statement\n",
    "        # If none of the above, add at the beginning\n",
    "        \n",
    "        env_positions = []\n",
    "        workdir_positions = []\n",
    "        from_positions = []\n",
    "        \n",
    "        for i, line in enumerate(content):\n",
    "            if line.strip().startswith('ENV '):\n",
    "                env_positions.append(i)\n",
    "            elif line.strip().startswith('WORKDIR '):\n",
    "                workdir_positions.append(i)\n",
    "            elif line.strip().startswith('FROM '):\n",
    "                from_positions.append(i)\n",
    "        \n",
    "        if env_positions:\n",
    "            insert_position = env_positions[-1] + 1\n",
    "        elif workdir_positions:\n",
    "            insert_position = workdir_positions[-1] + 1\n",
    "        elif from_positions:\n",
    "            insert_position = from_positions[-1] + 1\n",
    "        else:\n",
    "            insert_position = 0\n",
    "        \n",
    "        # Create ENV statements for the new variables\n",
    "        env_statements = []\n",
    "        for key, value in env_vars.items():\n",
    "            env_statements.append(f\"ENV {key}={value}\\n\")\n",
    "        \n",
    "        # If we're adding after an existing ENV statement, add a blank line for readability\n",
    "        if env_positions and insert_position > 0:\n",
    "            if not content[insert_position-1].strip() == '':\n",
    "                env_statements.insert(0, '\\n')\n",
    "        \n",
    "        # Insert the new ENV statements\n",
    "        for i, statement in enumerate(env_statements):\n",
    "            content.insert(insert_position + i, statement)\n",
    "        \n",
    "        # Write the updated content back to the Dockerfile\n",
    "        with open(dockerfile_path, 'w') as file:\n",
    "            file.writelines(content)\n",
    "        \n",
    "        return True\n",
    "    \n",
    "    except Exception as e:\n",
    "        print(f\"Error modifying Dockerfile: {e}\")\n",
    "        return False\n",
    "\n",
    "\n",
    "# Example usage\n",
    "dockerfile_path = \"Dockerfile\"\n",
    "env_vars = {\n",
    "    \"OTEL_PYTHON_DISTRO\": \"aws_distro\",\n",
    "    \"OTEL_PYTHON_CONFIGURATOR\": \"aws_configurator\",\n",
    "    \"OTEL_EXPORTER_OTLP_TRACES_ENDPOINT\": \"https://xray.us-east-1.amazonaws.com/v1/traces\",\n",
    "    \"OTEL_EXPORTER_OTLP_PROTOCOL\": \"http/protobuf\",\n",
    "    \"OTEL_RESOURCE_ATTRIBUTES\": \"service.name=banking_runtime_agent\",\n",
    "    \"AGENT_OBSERVABILITY_ENABLED\": \"true\",\n",
    "    \"OTEL_EXPORTER_OTLP_LOGS_HEADERS\":\"x-aws-log-group=bedrock-agentcore-observability,x-aws-log-stream=default,x-aws-metric-namespace=bedrock-agentcore\",\n",
    "    \"OTEL_PYTHON_DISABLED_INSTRUMENTATIONS\":\"bedrock-agentcore,strands-agents,strands-agents-tools,boto3sqs,botocore,requests,urllib3,httpx,aiohttp-client,asyncio,threading,logging,system_metrics,psutil,sqlite3,redis,pymongo,sqlalchemy,django,flask,tornado,pyramid,falcon,starlette,fastapi,websockets\"\n",
    "}\n",
    "\n",
    "success = modify_dockerfile(dockerfile_path, env_vars)\n",
    "if success:\n",
    "    print(f\"Successfully updated {dockerfile_path} with new environment variables\")\n",
    "else:\n",
    "    print(f\"Failed to update {dockerfile_path}\")\n",
    "\n",
    "\n"
   ]
  },
  {
   "cell_type": "code",
   "execution_count": null,
   "id": "1a64b27e",
   "metadata": {},
   "outputs": [],
   "source": [
    "# launch agentCore runtime\n",
    "launch_result = agentcore_runtime.launch()\n",
    "print(f\"Launching AgentCore runtime {agent_name}\")"
   ]
  },
  {
   "cell_type": "code",
   "execution_count": null,
   "id": "04a378be",
   "metadata": {},
   "outputs": [],
   "source": [
    "# Check agentcore runtime deployment status\n",
    "status_response = agentcore_runtime.status()\n",
    "status = status_response.endpoint['status']\n",
    "end_status = ['READY', 'CREATE_FAILED', 'DELETE_FAILED', 'UPDATE_FAILED']\n",
    "while status not in end_status:\n",
    "    time.sleep(10)\n",
    "    status_response = agentcore_runtime.status()\n",
    "    status = status_response.endpoint['status']\n",
    "    print(\".\")\n",
    "print(\"AgentCore Runtime deployed succssfully:\", agent_name)"
   ]
  },
  {
   "cell_type": "code",
   "execution_count": null,
   "id": "ada0de23",
   "metadata": {},
   "outputs": [],
   "source": [
    "# Invoke the agentCore runtime\n",
    "invoke_response = agentcore_runtime.invoke({\"prompt\": \"What’s the account balance for 1234567890?\"})\n",
    "invoke_response"
   ]
  },
  {
   "cell_type": "code",
   "execution_count": null,
   "id": "0d7c8705",
   "metadata": {},
   "outputs": [],
   "source": [
    "agent_arn = status_response.endpoint['agentRuntimeEndpointArn']\n",
    "print(\"Agent ARN:\", agent_arn)"
   ]
  },
  {
   "cell_type": "code",
   "execution_count": null,
   "id": "1e5215ac",
   "metadata": {},
   "outputs": [],
   "source": [
    "# test with boto3 client\n",
    "\n",
    "import boto3\n",
    "import json\n",
    "from IPython.display import display, Markdown\n",
    "region = 'us-east-1'\n",
    "agentcore_client = boto3.client(\n",
    "    'bedrock-agentcore',\n",
    "    region_name=region\n",
    ")\n",
    "\n",
    "boto3_response = agentcore_client.invoke_agent_runtime(\n",
    "    agentRuntimeArn=agent_arn,\n",
    "    qualifier=\"default\",\n",
    "    payload=json.dumps({\"prompt\": \"What’s the account balance for 1234567890?\"})\n",
    ")\n",
    "if \"text/event-stream\" in boto3_response.get(\"contentType\", \"\"):\n",
    "    content = []\n",
    "    for line in boto3_response[\"response\"].iter_lines(chunk_size=1):\n",
    "        if line:\n",
    "            line = line.decode(\"utf-8\")\n",
    "            if line.startswith(\"data: \"):\n",
    "                line = line[6:]\n",
    "                print(line)\n",
    "                content.append(line)\n",
    "    display(Markdown(\"\\n\".join(content)))\n",
    "else:\n",
    "    try:\n",
    "        events = []\n",
    "        for event in boto3_response.get(\"response\", []):\n",
    "            events.append(event)\n",
    "    except Exception as e:\n",
    "        events = [f\"Error reading EventStream: {e}\"]\n",
    "    display(Markdown(json.loads(events[0].decode(\"utf-8\"))))"
   ]
  },
  {
   "cell_type": "markdown",
   "id": "f0722e2a",
   "metadata": {},
   "source": [
    "## Traces output when agent is hosted on runtime\n",
    "\n",
    "<img src=\"../images/runtime.png\" width=\"75%\"/>\n",
    "\n",
    "\n",
    "## Traces output when agent is hosted outside of runtime\n",
    "\n",
    "<img src=\"../images/remote.png\" width=\"75%\"/>"
   ]
  },
  {
   "cell_type": "code",
   "execution_count": null,
   "id": "dea3bb92",
   "metadata": {},
   "outputs": [],
   "source": [
    "# get resources to clean up\n",
    "launch_result.ecr_uri, launch_result.agent_id, launch_result.ecr_uri.split('/')[1]"
   ]
  },
  {
   "cell_type": "code",
   "execution_count": null,
   "id": "3b3016b0",
   "metadata": {},
   "outputs": [],
   "source": [
    "# Cleanup the resources\n",
    "agentcore_control_client = boto3.client(\n",
    "    'bedrock-agentcore-control',\n",
    "    region_name=region\n",
    ")\n",
    "ecr_client = boto3.client(\n",
    "    'ecr',\n",
    "    region_name=region\n",
    "    \n",
    ")\n",
    "\n",
    "runtime_delete_response = agentcore_control_client.delete_agent_runtime(\n",
    "    agentRuntimeId=launch_result.agent_id,\n",
    "    \n",
    ")\n",
    "\n",
    "response = ecr_client.delete_repository(\n",
    "    repositoryName=launch_result.ecr_uri.split('/')[1],\n",
    "    force=True\n",
    ")"
   ]
  },
  {
   "cell_type": "markdown",
   "id": "51073a2c",
   "metadata": {},
   "source": [
    "## Test endpoint locally"
   ]
  },
  {
   "cell_type": "markdown",
   "id": "41c0741e",
   "metadata": {},
   "source": [
    "Run ./run_agent_with_telemetry.sh in cli which uses the environment variables from .env"
   ]
  },
  {
   "cell_type": "code",
   "execution_count": null,
   "id": "4c2b3e32",
   "metadata": {},
   "outputs": [],
   "source": [
    "!curl -X POST http://localhost:8080/invocations \\\n",
    "-H \"Content-Type: application/json\" \\\n",
    "-d '{ \"input\": {\"prompt\": \"What’s the account balance for 1234567890?\"} }'"
   ]
  }
 ],
 "metadata": {
  "kernelspec": {
   "display_name": ".venv",
   "language": "python",
   "name": "python3"
  },
  "language_info": {
   "codemirror_mode": {
    "name": "ipython",
    "version": 3
   },
   "file_extension": ".py",
   "mimetype": "text/x-python",
   "name": "python",
   "nbconvert_exporter": "python",
   "pygments_lexer": "ipython3",
   "version": "3.12.8"
  }
 },
 "nbformat": 4,
 "nbformat_minor": 5
}
