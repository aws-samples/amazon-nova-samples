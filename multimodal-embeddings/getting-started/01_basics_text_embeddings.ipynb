{
 "cells": [
  {
   "cell_type": "markdown",
   "id": "4e27fd02",
   "metadata": {},
   "source": [
    "# Text Embedding Basics\n",
    "\n",
    "<div style=\"background-color: #d9f2f7ff; border:1px solid #a0a0a060; padding: 1rem; color: #151515\">\n",
    "✏️ <strong>Note:</strong> The examples below can be run in any order. Input and output will be automatically saved to the \"output\" folder.\n",
    "</div>\n",
    "\n",
    "You can create embeddings synchronously using the Amazon Bedrock Runtime `InvokeModel` function. Try the simple examples below."
   ]
  },
  {
   "cell_type": "code",
   "execution_count": null,
   "id": "restore-variables",
   "metadata": {},
   "outputs": [],
   "source": [
    "# Restore variables from setup notebook\n",
    "%store -r s3_bucket\n",
    "print(f\"Using S3 bucket: {s3_bucket}\")\n",
    "%store -r region_name\n",
    "print(f\"Using region: {region_name}\")"
   ]
  },
  {
   "cell_type": "markdown",
   "id": "95502286",
   "metadata": {},
   "source": [
    "### Synchronous Embedding - Inline Text\n",
    "\n",
    "This first example includes the source text for the embedding directly within the request using the `text.value` request parameter."
   ]
  },
  {
   "cell_type": "code",
   "execution_count": null,
   "id": "796f70bf",
   "metadata": {},
   "outputs": [],
   "source": [
    "from utils.utils import pretty_format\n",
    "import nova_embeddings\n",
    "\n",
    "request_body = {\n",
    "    \"taskType\": \"SINGLE_EMBEDDING\",\n",
    "    \"singleEmbeddingParams\": {\n",
    "        \"embeddingPurpose\": \"GENERIC_INDEX\",\n",
    "        \"embeddingDimension\": 256,\n",
    "        \"text\": {\"truncationMode\": \"END\", \"value\": \"Hello, world!\"},\n",
    "    },\n",
    "}\n",
    "\n",
    "body, metadata = nova_embeddings.generate_embedding_sync(request_body)\n",
    "\n",
    "print(\"Request ID:\", metadata.get(\"RequestId\"))\n",
    "print(pretty_format(body))"
   ]
  },
  {
   "cell_type": "markdown",
   "id": "625056de",
   "metadata": {},
   "source": [
    "### Synchronous Embedding - S3 Text File\n",
    "\n",
    "This example shows how to use a text file stored in S3 as the input for a text embedding. **Be sure to edit the `S3_TEXT_FILE` value before running this cell.**"
   ]
  },
  {
   "cell_type": "code",
   "execution_count": null,
   "id": "2566052b",
   "metadata": {},
   "outputs": [],
   "source": [
    "from utils.utils import pretty_format\n",
    "import nova_embeddings\n",
    "\n",
    "# Update this constant to reference a text file in your S3 bucket.\n",
    "S3_TEXT_FILE = f\"s3://{s3_bucket}/sample_assets/text/Flatland-Edwin_Abbott-excerpt.txt\"\n",
    "\n",
    "request_body = {\n",
    "    \"taskType\": \"SINGLE_EMBEDDING\",\n",
    "    \"singleEmbeddingParams\": {\n",
    "        \"embeddingPurpose\": \"GENERIC_INDEX\",\n",
    "        \"embeddingDimension\": 256,\n",
    "        \"text\": {\n",
    "            \"truncationMode\": \"END\",\n",
    "            \"source\": {\"s3Location\": {\"uri\": S3_TEXT_FILE}},\n",
    "        },\n",
    "    },\n",
    "}\n",
    "\n",
    "body, metadata = nova_embeddings.generate_embedding_sync(request_body)\n",
    "\n",
    "print(\"Request ID:\", metadata.get(\"RequestId\"))\n",
    "print(pretty_format(body))"
   ]
  },
  {
   "cell_type": "markdown",
   "id": "5a7ebdb1",
   "metadata": {},
   "source": [
    "### Asynchronous Embedding - Inline Text\n",
    "\n",
    "Use the **StartAsyncInvoke** function to generate a text embedding asynchronously. The Nova Embeddings asynchronous generation features is particularly useful for its ability to segment long input into multiple embeddings. The results will be stored to an S3 bucket you specify. Calls to StartAsyncInvoke will return an `invocationArn` that can be used to check the status of the async job using the **GetAsyncInvoke** function.\n",
    "\n",
    "In the example below, we load a .txt file representing a book and send that text content to Nova Embeddings with a `maxLengthChars` setting of 1000 which will automatically segment the text into chunks of 1000 characters or fewer. This segmentation process attempts to segment at word boundaries, so each chunk may not be exactly 1000 characters.\n",
    "\n",
    "Edit the `S3_DESTINATION_BUCKET` value below to point to your own S3 bucket. Then run the cell."
   ]
  },
  {
   "cell_type": "code",
   "execution_count": null,
   "id": "03aa3134",
   "metadata": {},
   "outputs": [],
   "source": [
    "import nova_embeddings\n",
    "\n",
    "# We'll load a long text value from disk. (\"Flatland\" is a public domain book by Edwin Abbott.)\n",
    "TEXT_FILE = \"sample_assets/text/Flatland-Edwin_Abbott.txt\"\n",
    "\n",
    "with open(TEXT_FILE, \"r\", encoding=\"utf-8\") as f:\n",
    "    text_content = f.read()\n",
    "\n",
    "request_body = {\n",
    "    \"taskType\": \"SEGMENTED_EMBEDDING\",\n",
    "    \"segmentedEmbeddingParams\": {\n",
    "        \"embeddingPurpose\": \"GENERIC_INDEX\",\n",
    "        \"embeddingDimension\": 256,\n",
    "        \"text\": {\n",
    "            \"truncationMode\": \"END\",\n",
    "            \"value\": text_content,\n",
    "            \"segmentationConfig\": {\n",
    "                \"maxLengthChars\": 1000\n",
    "            }\n",
    "        },\n",
    "    },\n",
    "}\n",
    "\n",
    "invocation_arn, metadata = nova_embeddings.generate_embedding_async(\n",
    "    request_body, s3_bucket\n",
    ")\n",
    "\n",
    "print(\"Request ID:\", metadata.get(\"RequestId\"))\n",
    "print(\"Invocation ARN:\", invocation_arn)"
   ]
  },
  {
   "cell_type": "markdown",
   "id": "cab0996d",
   "metadata": {},
   "source": [
    "You can use the **GetAsyncInvoke** function to check the status of your asynchronous embedding job."
   ]
  },
  {
   "cell_type": "code",
   "execution_count": null,
   "id": "81f41225",
   "metadata": {},
   "outputs": [],
   "source": [
    "from utils.utils import pretty_format\n",
    "import boto3\n",
    "\n",
    "# Uncomment the line below if you'd like to use a hard-coded invocation_arn.\n",
    "# invocation_arn = \"<your-invocation-arn>\"\n",
    "\n",
    "if \"invocation_arn\" not in locals():\n",
    "    raise SystemExit(\n",
    "        \"invocation_arn variable not found. Please run the previous cell first or hard code an invocation_arn in this cell.\"\n",
    "    )\n",
    "\n",
    "# Create the Bedrock Runtime client.\n",
    "bedrock_runtime = boto3.client(\n",
    "    service_name=\"bedrock-runtime\",\n",
    "    region_name=region_name,\n",
    ")\n",
    "\n",
    "try:\n",
    "    # Get the async job status.\n",
    "    response = bedrock_runtime.get_async_invoke(\n",
    "        invocationArn=invocation_arn,\n",
    "    )\n",
    "\n",
    "except Exception as e:\n",
    "    # You would typically add your own exception handling here.\n",
    "    print(e)\n",
    "\n",
    "print(pretty_format(response))"
   ]
  },
  {
   "cell_type": "markdown",
   "id": "6ccb283e",
   "metadata": {},
   "source": [
    "The convenience function below will download the output for recent async jobs to the \"output\" directory. It will optionally monitor any in-progress jobs, downloading their output when they complete."
   ]
  },
  {
   "cell_type": "code",
   "execution_count": null,
   "id": "67ab8a76",
   "metadata": {},
   "outputs": [],
   "source": [
    "from utils.async_job_utils import download_recent_async_jobs\n",
    "\n",
    "# Download and monitor async jobs from the past N hours.\n",
    "download_recent_async_jobs(output_dir=\"output\", hours=4, wait_for_running_jobs=True)"
   ]
  },
  {
   "cell_type": "code",
   "execution_count": null,
   "id": "22f60c0e-40fc-4c4b-ba94-57d9f520217c",
   "metadata": {},
   "outputs": [],
   "source": []
  }
 ],
 "metadata": {
  "kernelspec": {
   "display_name": "Python 3 (ipykernel)",
   "language": "python",
   "name": "python3"
  },
  "language_info": {
   "codemirror_mode": {
    "name": "ipython",
    "version": 3
   },
   "file_extension": ".py",
   "mimetype": "text/x-python",
   "name": "python",
   "nbconvert_exporter": "python",
   "pygments_lexer": "ipython3",
   "version": "3.13.3"
  }
 },
 "nbformat": 4,
 "nbformat_minor": 5
}
