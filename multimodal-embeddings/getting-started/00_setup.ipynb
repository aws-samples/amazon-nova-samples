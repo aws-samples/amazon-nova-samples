{
 "cells": [
  {
   "cell_type": "markdown",
   "id": "setup-title",
   "metadata": {},
   "source": [
    "# Setup Notebook\n",
    "\n",
    "This is a setup notebook to set up resources needed for the `getting-started` notebooks.\n",
    "\n",
    "This notebook will:\n",
    "- Install required dependencies\n",
    "- Configure AWS region and S3 bucket\n",
    "- Create S3 bucket and upload sample assets\n",
    "- Store configuration variables for other notebooks"
   ]
  },
  {
   "cell_type": "code",
   "execution_count": null,
   "id": "install-deps",
   "metadata": {},
   "outputs": [],
   "source": [
    "!pip install -r requirements.txt"
   ]
  },
  {
   "cell_type": "markdown",
   "id": "s3-bucket-setup",
   "metadata": {},
   "source": [
    "## S3 Bucket Setup\n",
    "\n",
    "Create a unique S3 bucket name and store it for use in other notebooks."
   ]
  },
  {
   "cell_type": "code",
   "execution_count": null,
   "id": "get-account-id",
   "metadata": {},
   "outputs": [],
   "source": [
    "import boto3\n",
    "import json\n",
    "\n",
    "# Get AWS account ID\n",
    "sts = boto3.client('sts')\n",
    "account_id = sts.get_caller_identity()['Account']\n",
    "print(f\"AWS Account ID: {account_id}\")\n",
    "\n",
    "# Create unique S3 bucket name\n",
    "s3_bucket = f\"nova-mme-get-started-{account_id}\"\n",
    "print(f\"S3 Bucket Name: {s3_bucket}\")"
   ]
  },
  {
   "cell_type": "code",
   "execution_count": null,
   "id": "store-bucket-name",
   "metadata": {},
   "outputs": [],
   "source": [
    "# Store bucket name in a config file for other notebooks\n",
    "config = {\n",
    "    \"s3_bucket\": s3_bucket,\n",
    "    \"account_id\": account_id\n",
    "}\n",
    "\n",
    "with open('config.json', 'w') as f:\n",
    "    json.dump(config, f, indent=2)\n",
    "\n",
    "print(f\"Configuration saved to config.json\")\n",
    "print(f\"S3 bucket name: {s3_bucket}\")"
   ]
  },
  {
   "cell_type": "code",
   "execution_count": null,
   "id": "create-s3-bucket",
   "metadata": {},
   "outputs": [],
   "source": [
    "# Create S3 bucket\n",
    "s3 = boto3.client('s3')\n",
    "\n",
    "try:\n",
    "    s3.create_bucket(Bucket=s3_bucket)\n",
    "    print(f\"Created S3 bucket: {s3_bucket}\")\n",
    "except s3.exceptions.BucketAlreadyOwnedByYou:\n",
    "    print(f\"S3 bucket {s3_bucket} already exists\")\n",
    "except Exception as e:\n",
    "    print(f\"Error creating bucket: {e}\")"
   ]
  },
  {
   "cell_type": "code",
   "execution_count": null,
   "id": "upload-sample-assets",
   "metadata": {},
   "outputs": [],
   "source": [
    "import os\n",
    "\n",
    "# Upload sample assets to S3 bucket\n",
    "sample_assets_dir = 'sample_assets'\n",
    "\n",
    "for root, dirs, files in os.walk(sample_assets_dir):\n",
    "    for file in files:\n",
    "        local_path = os.path.join(root, file)\n",
    "        s3_key = local_path.replace('\\\\', '/')\n",
    "        \n",
    "        try:\n",
    "            s3.upload_file(local_path, s3_bucket, s3_key)\n",
    "            print(f\"Uploaded: {local_path} -> s3://{s3_bucket}/{s3_key}\")\n",
    "        except Exception as e:\n",
    "            print(f\"Error uploading {local_path}: {e}\")\n",
    "\n",
    "print(\"Sample assets upload complete!\")"
   ]
  },
  {
   "cell_type": "code",
   "execution_count": null,
   "id": "bf6ebe0a-b3c0-45eb-a5df-ec77b739b843",
   "metadata": {},
   "outputs": [],
   "source": [
    "region_name = 'us-east-1'\n",
    "os.environ['AWS_DEFAULT_REGION'] = region_name"
   ]
  },
  {
   "cell_type": "code",
   "execution_count": null,
   "id": "c6729a56-bff5-4849-a147-efbd44a42549",
   "metadata": {},
   "outputs": [],
   "source": [
    "# Store the bucket name for use in other notebooks\n",
    "%store s3_bucket\n",
    "%store region_name"
   ]
  },
  {
   "cell_type": "code",
   "execution_count": null,
   "id": "d540d87b-c1cc-4411-962e-cf4e5aaf21a6",
   "metadata": {},
   "outputs": [],
   "source": []
  }
 ],
 "metadata": {
  "kernelspec": {
   "display_name": "Python 3 (ipykernel)",
   "language": "python",
   "name": "python3"
  },
  "language_info": {
   "codemirror_mode": {
    "name": "ipython",
    "version": 3
   },
   "file_extension": ".py",
   "mimetype": "text/x-python",
   "name": "python",
   "nbconvert_exporter": "python",
   "pygments_lexer": "ipython3",
   "version": "3.13.3"
  }
 },
 "nbformat": 4,
 "nbformat_minor": 5
}
