{
 "cells": [
  {
   "cell_type": "markdown",
   "id": "04d7784c",
   "metadata": {},
   "source": [
    "# Creating Text Query Embeddings\n",
    "\n",
    "If you are creating an embedding to be used as a search query, using one of following query templates will improve ranking results.\n",
    "\n",
    "**When comparing to text (e.g. in a text to text retrieval use-case):**\n",
    "> Instruction: Given a query, retrieve passages that are relevant to the query:\\nQuery: *{yourText}*\n",
    "\n",
    "**When comparing to documents (e.g. in a text to document retrieval use-case):**\n",
    "> Instruction: Retrieve a document that answers the following query:\\nQuery: *{yourText}*\n",
    "\n",
    "**When comparing to images, videos, or documents (e.g. in a text to multimodal and multi-file retrieval use-case):**\n",
    "> Instruction: Find an image, video or document that match with the following description:\\nQuery: *{yourText}*\n",
    "\n",
    "The example below will let you explore the difference between using a non-optimized query embedding, and one that has been created using the optimized approach above.\n",
    "\n",
    "Run the cell below to set up a helper function we'll use later."
   ]
  },
  {
   "cell_type": "code",
   "execution_count": null,
   "id": "restore-variables",
   "metadata": {},
   "outputs": [],
   "source": [
    "# Restore variables from setup notebook\n",
    "%store -r s3_bucket\n",
    "print(f\"Using S3 bucket: {s3_bucket}\")\n",
    "%store -r region_name\n",
    "print(f\"Using region: {region_name}\")"
   ]
  },
  {
   "cell_type": "code",
   "execution_count": null,
   "id": "4bf01477",
   "metadata": {},
   "outputs": [],
   "source": [
    "from utils.utils import cosine_sim\n",
    "import nova_embeddings\n",
    "\n",
    "\n",
    "def sort_by_similarity(indexed_items, query_embedding):\n",
    "    \"\"\"Sort items by cosine similarity to a query embedding.\n",
    "\n",
    "    Args:\n",
    "        indexed_items (list): List of dictionaries, each containing an \"embedding\" key.\n",
    "        query_embedding: The embedding vector to compare against.\n",
    "\n",
    "    Returns:\n",
    "        list: Sorted list of dictionaries with \"similarity\" and \"item\" keys,\n",
    "              ordered by similarity score in descending order.\n",
    "    \"\"\"\n",
    "    sorted_items = []\n",
    "    for item in indexed_items:\n",
    "        scored_item = {\n",
    "            \"similarity\": cosine_sim(item[\"embedding\"], query_embedding),\n",
    "            \"item\": item,\n",
    "        }\n",
    "        sorted_items.append(scored_item)\n",
    "\n",
    "    sorted_items.sort(key=lambda x: x[\"similarity\"], reverse=True)\n",
    "    return sorted_items"
   ]
  },
  {
   "cell_type": "markdown",
   "id": "37450786",
   "metadata": {},
   "source": [
    "Set the size of the embeddings to use throughout this example."
   ]
  },
  {
   "cell_type": "code",
   "execution_count": null,
   "id": "11cb6f9b",
   "metadata": {},
   "outputs": [],
   "source": [
    "embedding_dimension = 3072"
   ]
  },
  {
   "cell_type": "markdown",
   "id": "87254685",
   "metadata": {},
   "source": [
    "Create a small data set containing a passage of text and an embedding for each passage."
   ]
  },
  {
   "cell_type": "code",
   "execution_count": null,
   "id": "c8a78056",
   "metadata": {},
   "outputs": [],
   "source": [
    "example_passages = [\n",
    "    \"The Science of Laughter: Why Giggles Might Be Humanity's Superpower\",\n",
    "    \"Satellites, Selfies, and Space Junk: How Orbit Is Getting Crowded\",\n",
    "    \"DIY DNA: How a Cup of Coffee Can Unlock Genetic Mysteries\",\n",
    "    \"Rocket Science Isn't Hard? Meet the Everyday Physics Behind Liftoff\",\n",
    "    \"Ant Cities vs. Human Cities: Who Builds Better?\",\n",
    "    \"Why Mars Wants You: The Surprising Skills Future Space Colonists Will Need\",\n",
    "    \"Volcanoes Under Ice: The Hidden Heat Shaping Our Planet\",\n",
    "    \"The Secret Life of Bananas: How Your Fruit Bowl Explains Evolution\",\n",
    "    \"The Cosmic Ocean: What Jellyfish Teach Us About Traveling the Stars\",\n",
    "    \"Time Travel for Beginners: Why Your Microwave Is Already Bending Physics\",\n",
    "]\n",
    "\n",
    "passages_with_embeddings = []\n",
    "\n",
    "for index, passage in enumerate(example_passages):\n",
    "    print(\n",
    "        f\"\\rGenerating embedding {index + 1} of {len(example_passages)}\",\n",
    "        end=\"\",\n",
    "        flush=True,\n",
    "    )\n",
    "\n",
    "    indexing_embedding_params = {\n",
    "        \"taskType\": \"SINGLE_EMBEDDING\",\n",
    "        \"singleEmbeddingParams\": {\n",
    "            \"embeddingPurpose\": \"GENERIC_INDEX\",\n",
    "            \"embeddingDimension\": embedding_dimension,\n",
    "            \"text\": {\"truncationMode\": \"END\", \"value\": passage},\n",
    "        },\n",
    "    }\n",
    "    result_body, _ = nova_embeddings.generate_embedding_sync(indexing_embedding_params)\n",
    "    embedding = nova_embeddings.extract_embedding(result_body)\n",
    "    passages_with_embeddings.append(\n",
    "        {\"index\": index, \"text\": passage, \"embedding\": embedding}\n",
    "    )"
   ]
  },
  {
   "cell_type": "markdown",
   "id": "744eb4e2",
   "metadata": {},
   "source": [
    "We will sort the above list based on similarity to query text you provide. Edit the query text below if you would like, and run the cell to set the `query_text` variable."
   ]
  },
  {
   "cell_type": "code",
   "execution_count": null,
   "id": "1d638d1a",
   "metadata": {},
   "outputs": [],
   "source": [
    "query_text = \"Stories about rocket launches\""
   ]
  },
  {
   "cell_type": "markdown",
   "id": "2fbc69c5",
   "metadata": {},
   "source": [
    "First, we'll try doing a similarity sort using the query text as-is, passing it straight through to create the query embedding."
   ]
  },
  {
   "cell_type": "code",
   "execution_count": null,
   "id": "a74a9132",
   "metadata": {},
   "outputs": [],
   "source": [
    "result_body, _ = nova_embeddings.generate_embedding_sync(\n",
    "    {\n",
    "        \"taskType\": \"SINGLE_EMBEDDING\",\n",
    "        \"singleEmbeddingParams\": {\n",
    "            \"embeddingPurpose\": \"TEXT_RETRIEVAL\",\n",
    "            \"text\": {\"truncationMode\": \"END\", \"value\": query_text},\n",
    "        },\n",
    "    }\n",
    ")\n",
    "\n",
    "query_embedding = nova_embeddings.extract_embedding(result_body)\n",
    "\n",
    "# Create a list of passages sorted by cosine similarity.\n",
    "sorted_passages = sort_by_similarity(passages_with_embeddings, query_embedding)\n",
    "\n",
    "# Print the sorted list.\n",
    "for item in sorted_passages:\n",
    "    print(f\"Similarity: {item['similarity']:.6f}, Text: {item['item']['text']}\")"
   ]
  },
  {
   "cell_type": "code",
   "execution_count": null,
   "id": "f5b50ffb-91cd-46f9-ac7a-fe4f97e34e1f",
   "metadata": {},
   "outputs": [],
   "source": []
  }
 ],
 "metadata": {
  "kernelspec": {
   "display_name": "Python 3 (ipykernel)",
   "language": "python",
   "name": "python3"
  },
  "language_info": {
   "codemirror_mode": {
    "name": "ipython",
    "version": 3
   },
   "file_extension": ".py",
   "mimetype": "text/x-python",
   "name": "python",
   "nbconvert_exporter": "python",
   "pygments_lexer": "ipython3",
   "version": "3.13.3"
  }
 },
 "nbformat": 4,
 "nbformat_minor": 5
}
