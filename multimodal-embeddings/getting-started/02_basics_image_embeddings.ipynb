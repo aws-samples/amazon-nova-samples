{
 "cells": [
  {
   "cell_type": "markdown",
   "id": "4e27fd02",
   "metadata": {},
   "source": [
    "# Basics - Image Embeddings\n",
    "\n",
    "<div style=\"background-color: #d9f2f7ff; border:1px solid #a0a0a060; padding: 1rem; color: #151515\">\n",
    "✏️ <strong>Note:</strong> The examples below can be run in any order. Input and output will be automatically saved to the \"output\" folder.\n",
    "</div>"
   ]
  },
  {
   "cell_type": "code",
   "execution_count": null,
   "id": "restore-variables",
   "metadata": {},
   "outputs": [],
   "source": [
    "# Restore variables from setup notebook\n",
    "%store -r s3_bucket\n",
    "print(f\"Using S3 bucket: {s3_bucket}\")\n",
    "%store -r region_name\n",
    "print(f\"Using region: {region_name}\")"
   ]
  },
  {
   "cell_type": "markdown",
   "id": "95502286",
   "metadata": {},
   "source": [
    "### Synchronous Embedding - Inline Image Data\n",
    "\n",
    "You can create embeddings synchronously using the Amazon Bedrock Runtime **InvokeModel** function and the `\"SINGLE_EMBEDDING\"` task type. (You can review the `generate_embedding_sync()` function in the \"nova_embeddings.py\" file for full details on how to call **InvokeModel**.)\n",
    "\n",
    "This first example includes the image data as a Base64 encoded string within the request using the `image.source.bytes` request parameter."
   ]
  },
  {
   "cell_type": "code",
   "execution_count": null,
   "id": "796f70bf",
   "metadata": {},
   "outputs": [],
   "source": [
    "from utils.utils import pretty_format, load_file_as_base64\n",
    "import nova_embeddings\n",
    "\n",
    "request_body = {\n",
    "    \"taskType\": \"SINGLE_EMBEDDING\",\n",
    "    \"singleEmbeddingParams\": {\n",
    "        \"embeddingPurpose\": \"GENERIC_INDEX\",\n",
    "        \"embeddingDimension\": 256,\n",
    "        \"image\": {\n",
    "            \"format\": \"png\",\n",
    "            \"detailLevel\": \"STANDARD_IMAGE\",\n",
    "            \"source\": {\"bytes\": load_file_as_base64(\"sample_assets/images/dog.png\")},\n",
    "        },\n",
    "    },\n",
    "}\n",
    "\n",
    "body, metadata = nova_embeddings.generate_embedding_sync(request_body)\n",
    "\n",
    "print(\"Request ID:\", metadata.get(\"RequestId\"))\n",
    "print(pretty_format(body))"
   ]
  },
  {
   "cell_type": "markdown",
   "id": "625056de",
   "metadata": {},
   "source": [
    "### Synchronous Embedding - S3 Image File\n",
    "\n",
    "This example shows how to use an image file stored in S3 as the input for an embedding. **Be sure to edit the `S3_IMAGE_FILE` value before running this cell.**"
   ]
  },
  {
   "cell_type": "code",
   "execution_count": null,
   "id": "2566052b",
   "metadata": {},
   "outputs": [],
   "source": [
    "from utils.utils import pretty_format\n",
    "import nova_embeddings\n",
    "\n",
    "# Update this constant to reference a file in your S3 bucket.\n",
    "\n",
    "S3_IMAGE_FILE = f\"s3://{s3_bucket}/sample_assets/images/dog.png\"\n",
    "\n",
    "request_body = {\n",
    "    \"taskType\": \"SINGLE_EMBEDDING\",\n",
    "    \"singleEmbeddingParams\": {\n",
    "        \"embeddingPurpose\": \"GENERIC_INDEX\",\n",
    "        \"embeddingDimension\": 256,\n",
    "        \"image\": {\n",
    "            \"format\": \"png\",\n",
    "            \"detailLevel\": \"STANDARD_IMAGE\",\n",
    "            \"source\": {\"s3Location\": {\"uri\": S3_IMAGE_FILE}},\n",
    "        },\n",
    "    },\n",
    "}\n",
    "\n",
    "body, metadata = nova_embeddings.generate_embedding_sync(request_body)\n",
    "\n",
    "print(\"Request ID:\", metadata.get(\"RequestId\"))\n",
    "print(pretty_format(body))"
   ]
  },
  {
   "cell_type": "markdown",
   "id": "5a7ebdb1",
   "metadata": {},
   "source": [
    "### Asynchronous Embedding - Inline Image Data\n",
    "\n",
    "Use the **StartAsyncInvoke** function to generate an embedding asynchronously. (See the `generate_embedding_async()` function definition in the \"nova_embeddings.py\" file for full details.) The results will be stored to an S3 bucket you specify. Calls to StartAsyncInvoke will return an `invocationArn` that can be used to check the status of the async job using the **GetAsyncInvoke** function.\n",
    "\n",
    "Edit the `S3_DESTINATION_BUCKET` value below to point to your own S3 bucket. Then run the cell."
   ]
  },
  {
   "cell_type": "code",
   "execution_count": null,
   "id": "03aa3134",
   "metadata": {},
   "outputs": [],
   "source": [
    "from utils.utils import load_file_as_base64\n",
    "import nova_embeddings\n",
    "\n",
    "# Update this constant to reference your own S3 bucket.\n",
    "S3_DESTINATION_BUCKET = s3_bucket\n",
    "\n",
    "request_body = {\n",
    "    \"taskType\": \"SEGMENTED_EMBEDDING\",\n",
    "    \"segmentedEmbeddingParams\": {\n",
    "        \"embeddingPurpose\": \"GENERIC_INDEX\",\n",
    "        \"embeddingDimension\": 256,\n",
    "        \"image\": {\n",
    "            \"format\": \"png\",\n",
    "            \"detailLevel\": \"STANDARD_IMAGE\",\n",
    "            \"source\": {\"bytes\": load_file_as_base64(\"sample_assets/images/dog.png\")},\n",
    "        },\n",
    "    },\n",
    "}\n",
    "\n",
    "invocation_arn, metadata = nova_embeddings.generate_embedding_async(\n",
    "    request_body, S3_DESTINATION_BUCKET\n",
    ")\n",
    "\n",
    "print(\"Request ID:\", metadata.get(\"RequestId\"))\n",
    "print(\"Invocation ARN:\", invocation_arn)"
   ]
  },
  {
   "cell_type": "markdown",
   "id": "cab0996d",
   "metadata": {},
   "source": [
    "You can use the **GetAsyncInvoke** function to check the status of your asynchronous embedding job."
   ]
  },
  {
   "cell_type": "code",
   "execution_count": null,
   "id": "81f41225",
   "metadata": {},
   "outputs": [],
   "source": [
    "from utils.utils import pretty_format\n",
    "import boto3\n",
    "\n",
    "# Uncomment the line below if you'd like to use a hard-coded invocation_arn.\n",
    "# invocation_arn = \"<your-invocation-arn>\"\n",
    "\n",
    "if \"invocation_arn\" not in locals():\n",
    "    raise SystemExit(\n",
    "        \"invocation_arn variable not found. Please run the previous cell first or hard code an invocation_arn in this cell.\"\n",
    "    )\n",
    "\n",
    "# Create the Bedrock Runtime client.\n",
    "bedrock_runtime = boto3.client(\n",
    "    service_name=\"bedrock-runtime\",\n",
    "    region_name=region_name,\n",
    ")\n",
    "\n",
    "try:\n",
    "    # Get the async job status.\n",
    "    response = bedrock_runtime.get_async_invoke(\n",
    "        invocationArn=invocation_arn,\n",
    "    )\n",
    "\n",
    "except Exception as e:\n",
    "    # You would typically add your own exception handling here.\n",
    "    print(e)\n",
    "\n",
    "print(pretty_format(response))"
   ]
  },
  {
   "cell_type": "markdown",
   "id": "6ccb283e",
   "metadata": {},
   "source": [
    "The convenience function below will download the output for recent async jobs to the \"output\" directory. It will optionally monitor any in-progress jobs, downloading their output when they complete."
   ]
  },
  {
   "cell_type": "code",
   "execution_count": null,
   "id": "67ab8a76",
   "metadata": {},
   "outputs": [],
   "source": [
    "from utils.async_job_utils import download_recent_async_jobs\n",
    "\n",
    "# Download and monitor async jobs from the past N hours.\n",
    "download_recent_async_jobs(output_dir=\"output\", hours=4, wait_for_running_jobs=True)"
   ]
  },
  {
   "cell_type": "code",
   "execution_count": null,
   "id": "a2143942-ac62-4303-ae50-7d519a5099c3",
   "metadata": {},
   "outputs": [],
   "source": []
  }
 ],
 "metadata": {
  "kernelspec": {
   "display_name": "Python 3 (ipykernel)",
   "language": "python",
   "name": "python3"
  },
  "language_info": {
   "codemirror_mode": {
    "name": "ipython",
    "version": 3
   },
   "file_extension": ".py",
   "mimetype": "text/x-python",
   "name": "python",
   "nbconvert_exporter": "python",
   "pygments_lexer": "ipython3",
   "version": "3.13.3"
  }
 },
 "nbformat": 4,
 "nbformat_minor": 5
}
