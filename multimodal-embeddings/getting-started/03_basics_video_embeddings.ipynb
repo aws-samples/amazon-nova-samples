{
 "cells": [
  {
   "cell_type": "markdown",
   "id": "2fe6378a",
   "metadata": {},
   "source": [
    "# Video Embedding Basics\n",
    "\n",
    "<div style=\"background-color: #d9f2f7ff; border:1px solid #a0a0a060; padding: 1rem; color: #151515\">\n",
    "✏️ <strong>Note:</strong> The examples below can be run in any order. Input and output will be automatically saved to the \"output\" folder.\n",
    "</div>\n",
    "\n",
    "Video embeddings can be generated asynchronously using the Amazon Bedrock Runtime **InvokeModel** function or asynchronously using the **StartAsyncInvoke** function.\n",
    "\n",
    "### Synchronous Embedding - Inline Video Data\n",
    "\n",
    "This first example includes the video data directly within the request using the `source.bytes` request parameter.\n"
   ]
  },
  {
   "cell_type": "code",
   "execution_count": null,
   "id": "restore-variables",
   "metadata": {},
   "outputs": [],
   "source": [
    "# Restore variables from setup notebook\n",
    "%store -r s3_bucket\n",
    "print(f\"Using S3 bucket: {s3_bucket}\")\n",
    "%store -r region_name\n",
    "print(f\"Using region: {region_name}\")"
   ]
  },
  {
   "cell_type": "code",
   "execution_count": null,
   "id": "df5f085a",
   "metadata": {},
   "outputs": [],
   "source": [
    "import json\n",
    "\n",
    "from utils.utils import load_file_as_base64\n",
    "import nova_embeddings\n",
    "\n",
    "request_body = {\n",
    "    \"taskType\": \"SINGLE_EMBEDDING\",\n",
    "    \"singleEmbeddingParams\": {\n",
    "        \"embeddingPurpose\": \"GENERIC_INDEX\",\n",
    "        \"embeddingDimension\": 256,\n",
    "        \"video\": {\n",
    "            \"format\": \"mp4\",\n",
    "            \"embeddingMode\": \"AUDIO_VIDEO_COMBINED\",\n",
    "            \"source\": {\n",
    "                \"bytes\": load_file_as_base64(\"sample_assets/videos/the-sea.mp4\")\n",
    "            },\n",
    "        },\n",
    "    },\n",
    "}\n",
    "\n",
    "body, metadata = nova_embeddings.generate_embedding_sync(request_body)\n",
    "\n",
    "print(\"Request ID:\", metadata.get(\"RequestId\"))\n",
    "print(json.dumps(body, indent=2))"
   ]
  },
  {
   "cell_type": "markdown",
   "id": "ca60b13a",
   "metadata": {},
   "source": [
    "### Synchronous Emedding - S3 Video File\n",
    "\n",
    "This next example creates an embedding for a video file stored in S3."
   ]
  },
  {
   "cell_type": "code",
   "execution_count": null,
   "id": "54a9742a",
   "metadata": {},
   "outputs": [],
   "source": [
    "import json\n",
    "\n",
    "import nova_embeddings\n",
    "\n",
    "# Update this constant to point to a video file in S3.\n",
    "S3_VIDEO_FILE = f\"s3://{s3_bucket}/sample_assets/videos/the-sea.mp4\"\n",
    "\n",
    "request_body = {\n",
    "    \"taskType\": \"SINGLE_EMBEDDING\",\n",
    "    \"singleEmbeddingParams\": {\n",
    "        \"embeddingPurpose\": \"GENERIC_INDEX\",\n",
    "        \"embeddingDimension\": 3072,\n",
    "        \"video\": {\n",
    "            \"format\": \"mp4\",\n",
    "            \"embeddingMode\": \"AUDIO_VIDEO_COMBINED\",\n",
    "            \"source\": {\n",
    "                \"s3Location\": {\n",
    "                    \"uri\": S3_VIDEO_FILE,\n",
    "                }\n",
    "            },\n",
    "        },\n",
    "    },\n",
    "}\n",
    "\n",
    "body, metadata = nova_embeddings.generate_embedding_sync(request_body)\n",
    "\n",
    "print(\"Request ID:\", metadata.get(\"RequestId\"))\n",
    "print(json.dumps(body, indent=2))"
   ]
  },
  {
   "cell_type": "markdown",
   "id": "82450889",
   "metadata": {},
   "source": [
    "### Asynchronous Embedding - Inline Video Data\n",
    "\n",
    "Use the **StartAsyncInvoke** function to generate an embedding asynchronously. (See the `generate_embedding_async()` function definition in the \"nova_embeddings.py\" file for full details.) The results will be stored to an S3 bucket you specify. When generating an async embedding for video files, you can specify the `segmentationConfig.durationSeconds` value to dictate how longer videos will be broken into segments. The default is 5 seconds. \n",
    "\n",
    "Calls to StartAsyncInvoke will return an `invocationArn` that can be used to check the status of the async job using the **GetAsyncInvoke** function.\n",
    "\n",
    "Edit the `S3_DESTINATION_BUCKET` value below to point to your own S3 bucket. Then run the cell."
   ]
  },
  {
   "cell_type": "code",
   "execution_count": null,
   "id": "51ad29c0",
   "metadata": {},
   "outputs": [],
   "source": [
    "from utils.utils import load_file_as_base64\n",
    "import nova_embeddings\n",
    "\n",
    "# Update this constant to reference your own S3 bucket.\n",
    "S3_DESTINATION_BUCKET = s3_bucket\n",
    "\n",
    "request_body = {\n",
    "    \"taskType\": \"SEGMENTED_EMBEDDING\",\n",
    "    \"segmentedEmbeddingParams\": {\n",
    "        \"embeddingPurpose\": \"GENERIC_INDEX\",\n",
    "        \"embeddingDimension\": 256,\n",
    "        \"video\": {\n",
    "            \"format\": \"mp4\",\n",
    "            \"embeddingMode\": \"AUDIO_VIDEO_COMBINED\",\n",
    "            \"source\": {\n",
    "                \"bytes\": load_file_as_base64(\"sample_assets/videos/the-sea.mp4\")\n",
    "            },\n",
    "            \"segmentationConfig\": {\"durationSeconds\": 5},\n",
    "        },\n",
    "    },\n",
    "}\n",
    "\n",
    "invocation_arn, metadata = nova_embeddings.generate_embedding_async(\n",
    "    request_body, S3_DESTINATION_BUCKET\n",
    ")\n",
    "\n",
    "print(\"Request ID:\", metadata.get(\"RequestId\"))\n",
    "print(\"Invocation ARN:\", invocation_arn)"
   ]
  },
  {
   "cell_type": "markdown",
   "id": "492a6475",
   "metadata": {},
   "source": [
    "You can use the **GetAsyncInvoke** function to check the status of your asynchronous embedding job."
   ]
  },
  {
   "cell_type": "code",
   "execution_count": null,
   "id": "afb89352",
   "metadata": {},
   "outputs": [],
   "source": [
    "from utils.utils import pretty_format\n",
    "import boto3\n",
    "\n",
    "# Uncomment the line below if you'd like to use a hard-coded invocation_arn.\n",
    "# invocation_arn = \"<your-invocation-arn>\"\n",
    "\n",
    "if \"invocation_arn\" not in locals():\n",
    "    raise SystemExit(\n",
    "        \"invocation_arn variable not found. Please run the previous cell first or hard code an invocation_arn in this cell.\"\n",
    "    )\n",
    "\n",
    "# Create the Bedrock Runtime client.\n",
    "bedrock_runtime = boto3.client(\n",
    "    service_name=\"bedrock-runtime\",\n",
    "    region_name=region_name,\n",
    ")\n",
    "\n",
    "try:\n",
    "    # Get the async job status.\n",
    "    response = bedrock_runtime.get_async_invoke(\n",
    "        invocationArn=invocation_arn,\n",
    "    )\n",
    "\n",
    "except Exception as e:\n",
    "    # You would typically add your own exception handling here.\n",
    "    print(e)\n",
    "\n",
    "print(pretty_format(response))"
   ]
  },
  {
   "cell_type": "markdown",
   "id": "704bacd9",
   "metadata": {},
   "source": [
    "The convenience function below will download the output for recent async jobs to the \"output\" directory. It will optionally monitor any in-progress jobs, downloading their output when they complete."
   ]
  },
  {
   "cell_type": "code",
   "execution_count": null,
   "id": "e86c6ad7",
   "metadata": {},
   "outputs": [],
   "source": [
    "from utils.async_job_utils import download_recent_async_jobs\n",
    "\n",
    "# Download and monitor async jobs from the past N hours.\n",
    "download_recent_async_jobs(output_dir=\"output\", hours=4, wait_for_running_jobs=True)"
   ]
  },
  {
   "cell_type": "code",
   "execution_count": null,
   "id": "d961ddb0-6f18-4f20-a0c5-088ee80341fd",
   "metadata": {},
   "outputs": [],
   "source": []
  }
 ],
 "metadata": {
  "kernelspec": {
   "display_name": "Python 3 (ipykernel)",
   "language": "python",
   "name": "python3"
  },
  "language_info": {
   "codemirror_mode": {
    "name": "ipython",
    "version": 3
   },
   "file_extension": ".py",
   "mimetype": "text/x-python",
   "name": "python",
   "nbconvert_exporter": "python",
   "pygments_lexer": "ipython3",
   "version": "3.13.3"
  }
 },
 "nbformat": 4,
 "nbformat_minor": 5
}
