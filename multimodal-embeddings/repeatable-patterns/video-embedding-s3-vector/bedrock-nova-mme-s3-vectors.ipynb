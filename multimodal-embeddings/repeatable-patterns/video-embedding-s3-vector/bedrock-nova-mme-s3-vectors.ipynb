{
 "cells": [
  {
   "cell_type": "markdown",
   "id": "3a0b2a41-bebe-4f3a-b803-eadc275a916f",
   "metadata": {},
   "source": [
    "# Nova Multimodal Embedding Search using Amazon Bedrock and Amazon S3 Vectors\n",
    "Work with Nova Multimodal Embedding Model and Amazon S3 Vectores\n",
    "\n",
    "<!-- ![Nova MM Embedding](./images/nova-mm-embed-search.png) -->"
   ]
  },
  {
   "cell_type": "code",
   "execution_count": null,
   "id": "11dc6ae2-b86d-449f-80e1-2a5af7da8dd6",
   "metadata": {},
   "outputs": [],
   "source": [
    "!pip install --upgrade pip setuptools wheel\n",
    "!pip install boto3 --upgrade"
   ]
  },
  {
   "cell_type": "markdown",
   "id": "791697ad-ac6d-4fd6-a320-fd560c4f3dc5",
   "metadata": {},
   "source": [
    "Restart kernal"
   ]
  },
  {
   "cell_type": "code",
   "execution_count": null,
   "id": "69e2067a-23c6-4480-bff5-e83b80423f1b",
   "metadata": {},
   "outputs": [],
   "source": [
    "model_id = 'amazon.nova-2-multimodal-embeddings-v1:0'\n",
    "\n",
    "s3_bucket = '<Your S3 Bucket>'\n",
    "s3_prefix = '<Your S3 Prefix>' \n",
    "account_id = '<Your account id>'\n",
    "\n",
    "dim = 3072\n",
    "s3vector_bucket = \"<Your S3 Vector Bucket>\"\n",
    "s3vector_index = \"<Your vector index>\""
   ]
  },
  {
   "cell_type": "markdown",
   "id": "8080c0d3-3a50-4f3b-aec0-325744730063",
   "metadata": {},
   "source": [
    "## Download a Sample Video and Upload to S3 as Input\n",
    "We'll use the Nova Multimodal Embedding model to generate embeddings from this video and perform content-based search.\n",
    "\n",
    "We will use an open-source sample video, [Meridian](https://en.wikipedia.org/wiki/Meridian_(film) ), as input to generate embeddings.\n",
    "\n",
    "![Meridian](./images/sample-video-meridian.png)"
   ]
  },
  {
   "cell_type": "code",
   "execution_count": null,
   "id": "ab678794-538a-432b-9414-054ade37d191",
   "metadata": {},
   "outputs": [],
   "source": [
    "# Download a sample video to local disk\n",
    "sample_name = 'NetflixMeridian.mp4'\n",
    "source_url = f'https://ws-assets-prod-iad-r-pdx-f3b3f9f1a7d6a3d0.s3.us-west-2.amazonaws.com/335119c4-e170-43ad-b55c-76fa6bc33719/NetflixMeridian.mp4'\n",
    "!curl {source_url} --output {sample_name}\n",
    "\n",
    "# Upload to S3\n",
    "import boto3\n",
    "s3 = boto3.client(\"s3\")\n",
    "s3_input_key = f'{s3_prefix}/video/{sample_name}'\n",
    "s3.upload_file(sample_name, s3_bucket, s3_input_key)\n",
    "print(f\"Uploaded to s3://{s3_bucket}/{s3_input_key}\")"
   ]
  },
  {
   "cell_type": "markdown",
   "id": "103306de-9d24-4238-9ef2-41fc51ec52c9",
   "metadata": {},
   "source": [
    "## Generate Multimodal Embeddings Using Nova\n",
    "We use Bedrock’s [StartAsyncInvoke](https://docs.aws.amazon.com/bedrock/latest/APIReference/API_runtime_StartAsyncInvoke.html) to run the embedding task asynchronously. In this example, the video is hosted on S3—ideal for handling large video files."
   ]
  },
  {
   "cell_type": "code",
   "execution_count": null,
   "id": "15761bae-8bf6-4511-9381-69570b63c99a",
   "metadata": {},
   "outputs": [],
   "source": [
    "from datetime import datetime\n",
    "\n",
    "bedrock = boto3.client(\"bedrock-runtime\", region_name=\"us-east-1\")\n",
    "\n",
    "request_body = {\n",
    "    \"taskType\": \"SEGMENTED_EMBEDDING\",\n",
    "    \"segmentedEmbeddingParams\": {\n",
    "        \"embeddingDimension\": dim,\n",
    "        \"embeddingPurpose\": \"GENERIC_INDEX\",\n",
    "        \"video\": {\n",
    "            \"format\": \"mp4\",\n",
    "            \"embeddingMode\": \"AUDIO_VIDEO_COMBINED\",\n",
    "            \"source\": {\n",
    "                \"s3Location\": {\n",
    "                    \"uri\": f's3://{s3_bucket}/{s3_input_key}',\n",
    "                    \"bucketOwner\": account_id,\n",
    "                }\n",
    "            },\n",
    "            \"segmentationConfig\": {\"durationSeconds\": 5},\n",
    "        },\n",
    "    },\n",
    "}\n",
    "\n",
    "# Invoke the Nova Embeddings model.\n",
    "response = bedrock.start_async_invoke(\n",
    "    modelId=model_id,\n",
    "    modelInput=request_body,\n",
    "    outputDataConfig={\n",
    "        \"s3OutputDataConfig\": {\"s3Uri\": f\"s3://{s3_bucket}\"}\n",
    "    },\n",
    ")\n",
    "START_TS = datetime.now()\n",
    "\n",
    "invocation_arn = response.get(\"invocationArn\")\n",
    "response_metadata = response[\"ResponseMetadata\"]\n"
   ]
  },
  {
   "cell_type": "markdown",
   "id": "6ff300e1-15ab-40eb-b788-bd0678441b30",
   "metadata": {},
   "source": [
    "The asynchronous task takes time to complete. In the function below, we call the [GetAsyncInvoke API](https://docs.aws.amazon.com/bedrock/latest/APIReference/API_runtime_GetAsyncInvoke.html) every 5 seconds to check the status of the task invoked from the previous file, until it completes. Once complete, the result is read from the .jsonl file in the output S3 bucket. Alternatively, you can set up an S3 trigger or an EventBridge rule to invoke a process (such as a Lambda function) to read the result, following an asynchronous architecture pattern."
   ]
  },
  {
   "cell_type": "code",
   "execution_count": null,
   "id": "5cfce3d0-095f-48eb-88d3-a34fa70ca301",
   "metadata": {},
   "outputs": [],
   "source": [
    "import time\n",
    "from IPython.display import clear_output\n",
    "\n",
    "def wait_for_output_file(s3_bucket, s3_prefix, invocation_arn):\n",
    "    # Wait until task complete\n",
    "    status = None\n",
    "    while status not in [\"Completed\", \"Failed\", \"Expired\"]:\n",
    "        response = bedrock.get_async_invoke(invocationArn=invocation_arn)\n",
    "        status = response['status']\n",
    "        clear_output(wait=True)\n",
    "        print(f\"Embedding task status: {status}\")\n",
    "        time.sleep(5)\n",
    "\n",
    "    outputS3Uri = response[\"outputDataConfig\"][\"s3OutputDataConfig\"][\"s3Uri\"]\n",
    "    output_s3_bucket = outputS3Uri.split('/')[2]\n",
    "    output_s3_prefix = outputS3Uri.replace(f's3://{output_s3_bucket}/','')\n",
    "    \n",
    "    # List objects in the prefix\n",
    "    response = s3.list_objects_v2(Bucket=output_s3_bucket, Prefix=output_s3_prefix)\n",
    "\n",
    "    # Look for output jsonl files\n",
    "    data = []\n",
    "    output_key = None\n",
    "    for obj in response.get('Contents', []):\n",
    "        if obj['Key'].endswith('.jsonl'):\n",
    "            output_key = obj['Key']\n",
    "            embed_name = output_key.split('/')[-1].replace(\".jsonl\",\"\").replace(\"embedding-\",\"\")\n",
    "            if output_key:\n",
    "                obj = s3.get_object(Bucket=s3_bucket, Key=output_key)\n",
    "                content = obj['Body'].read().decode('utf-8')\n",
    "                for item in content.split('\\n'):\n",
    "                    if item:\n",
    "                        embed = json.loads(item)\n",
    "                        if \"segmentMetadata\" in embed:\n",
    "                            embed[\"segmentMetadata\"][\"type\"] = embed_name\n",
    "                        data.append(embed)\n",
    "\n",
    "    return data"
   ]
  },
  {
   "cell_type": "markdown",
   "id": "fe3f42b3-5711-4a86-b12f-cbd818ab9b0e",
   "metadata": {},
   "source": [
    "The result will be available in S3 once the task is complete. The code snippet below wait until the *.jsonl file is ready and read it from the output path specified in your request."
   ]
  },
  {
   "cell_type": "code",
   "execution_count": null,
   "id": "242fd3de-8cf8-4afb-9d0a-6e90c085ef18",
   "metadata": {
    "scrolled": true
   },
   "outputs": [],
   "source": [
    "import json\n",
    "from IPython.display import display, JSON\n",
    "output = wait_for_output_file(s3_bucket, \"\", invocation_arn)\n",
    "print(f'Embedding elasped:', datetime.now()-START_TS)\n",
    "display(JSON(output))"
   ]
  },
  {
   "cell_type": "markdown",
   "id": "21ecfcad-bf83-410b-9dee-2cdf48148843",
   "metadata": {},
   "source": [
    "## Create an Amazon S3 Vector Bucket and Index\n",
    "In this example, we use Amazon S3 vectors to store the embeddings generated in the previous steps to serve light search as an example."
   ]
  },
  {
   "cell_type": "code",
   "execution_count": null,
   "id": "1a7d0ed0-289a-4a89-8744-7761274d4b0b",
   "metadata": {},
   "outputs": [],
   "source": [
    "# Create a S3 vector bucket if not exists\n",
    "s3vectors = boto3.client(\"s3vectors\", region_name=\"us-east-1\")\n",
    "try:\n",
    "    s3vectors.create_vector_bucket(vectorBucketName=s3vector_bucket)\n",
    "    print(f\"Vector bucket '{s3vector_bucket}' created successfully.\")\n",
    "except Exception as ex:    \n",
    "    print(f'Failed to create S3 vector bucket: {s3vector_bucket}', ex)"
   ]
  },
  {
   "cell_type": "code",
   "execution_count": null,
   "id": "5ddcce1a-cd92-4150-8617-22f826841a7e",
   "metadata": {},
   "outputs": [],
   "source": [
    "# Delete index\n",
    "s3vectors.delete_index(\n",
    "        vectorBucketName=s3vector_bucket,\n",
    "        indexName=s3vector_index)"
   ]
  },
  {
   "cell_type": "code",
   "execution_count": null,
   "id": "cb15957f-9f04-4992-b5ac-c39f6da5bdce",
   "metadata": {},
   "outputs": [],
   "source": [
    "# Create an index in the vector store if not exists\n",
    "try:\n",
    "    s3vectors.create_index(\n",
    "        vectorBucketName=s3vector_bucket,\n",
    "        indexName=s3vector_index,\n",
    "        dataType='float32',  # Common data type for vector embeddings\n",
    "        dimension=dim,\n",
    "        distanceMetric='cosine' # or 'euclidean'\n",
    "    )\n",
    "    print(f\"Vector index '{s3vector_index}' created successfully in bucket '{s3vector_bucket}'.\")\n",
    "except Exception as ex:    \n",
    "    print(f'Failed to create S3 vector index {s3vector_index} in bucket: {s3vector_bucket}', ex)"
   ]
  },
  {
   "cell_type": "markdown",
   "id": "272122c4-a13f-4c2a-a9ee-7fc411d2800c",
   "metadata": {},
   "source": [
    "## Store the Embeddings into the S3 vector index\n",
    "You can use the Python boto3 library to index and query the S3 vector store"
   ]
  },
  {
   "cell_type": "code",
   "execution_count": null,
   "id": "b8f467d1-e037-45f7-94ff-5c076fb6c991",
   "metadata": {},
   "outputs": [],
   "source": [
    "import boto3\n",
    "import json\n",
    "\n",
    "counter, idx = 0, 0\n",
    "batch_size = 200\n",
    "\n",
    "embeddings = []\n",
    "for o in output:\n",
    "    meta = o.get(\"segmentMetadata\")\n",
    "    if meta:\n",
    "        embeddings.append({\n",
    "                \"key\": f'{meta[\"type\"]}-{meta[\"segmentIndex\"]}',\n",
    "                \"data\": {\"float32\": o[\"embedding\"]},\n",
    "                \"metadata\": meta\n",
    "            })\n",
    "        counter += 1\n",
    "        idx += 1\n",
    "        if counter >= batch_size or idx >= len(output):\n",
    "            # Write embeddings into vector index with metadata.\n",
    "            s3vectors.put_vectors(\n",
    "                vectorBucketName=s3vector_bucket,   \n",
    "                indexName=s3vector_index,   \n",
    "                vectors=embeddings\n",
    "            )\n",
    "            counter = 0\n",
    "print(f'{idx} embedding(s) added to the S3 vector index')"
   ]
  },
  {
   "cell_type": "markdown",
   "id": "b424a429-f70c-4a93-b009-14d7124a24ce",
   "metadata": {},
   "source": [
    "## Search the Vector Store and Display the Video Clips\n",
    "Next, we create utility functions to query the S3 vector index using a provided embedding which return top N results, and to display the retrieved video clip embeddings in HTML format."
   ]
  },
  {
   "cell_type": "code",
   "execution_count": null,
   "id": "de98958e-a153-41b6-b508-ce8b90426343",
   "metadata": {
    "scrolled": true
   },
   "outputs": [],
   "source": [
    "def search_s3_vectors(search_embed, topK=5, s3vector_bucket=s3vector_bucket, s3vector_index=s3vector_index):\n",
    "    # Query vector index.\n",
    "    response = s3vectors.query_vectors(\n",
    "        vectorBucketName=s3vector_bucket,\n",
    "        indexName=s3vector_index,\n",
    "        queryVector={\"float32\": search_embed}, \n",
    "        topK=topK, \n",
    "        returnDistance=True,\n",
    "        returnMetadata=True\n",
    "    )\n",
    "    return response"
   ]
  },
  {
   "cell_type": "code",
   "execution_count": null,
   "id": "8ab52c38-d609-49b0-951f-3bae1fe5fd3b",
   "metadata": {},
   "outputs": [],
   "source": [
    "from IPython.display import HTML\n",
    "import boto3\n",
    "import uuid\n",
    "\n",
    "def display_video_clips(search_response):\n",
    "    # Format data for display\n",
    "    start_times = []\n",
    "    \n",
    "    for clip in search_response[\"vectors\"]:\n",
    "        #print(clip)\n",
    "        start_times.append(\n",
    "            (round(clip[\"metadata\"][\"segmentStartSeconds\"],2), \n",
    "             f'{round(float(clip[\"metadata\"][\"segmentStartSeconds\"]),2)} - {round(float(clip[\"metadata\"][\"segmentEndSeconds\"]),2)}s (score: {round(clip[\"distance\"],3)})'))\n",
    "\n",
    "    # Generate a presigned URL for the video in S3\n",
    "    s3 = boto3.client('s3')\n",
    "    url = s3.generate_presigned_url(\n",
    "        ClientMethod='get_object',\n",
    "        Params={'Bucket': s3_bucket, 'Key': s3_input_key},\n",
    "        ExpiresIn=3600\n",
    "    )\n",
    "\n",
    "    # Generate buttons HTML\n",
    "    buttons_html = ''.join([\n",
    "        f'<button onclick=\"jumpTo({time})\">{label}</button> '\n",
    "        for time, label in start_times\n",
    "    ])\n",
    "\n",
    "    video_id = f\"videoPlayer{str(uuid.uuid4())[0:4]}\"\n",
    "    html = f\"\"\"\n",
    "    <video id=\"{video_id}\" width=\"640\" controls muted>\n",
    "      <source src=\"{url}\" type=\"video/mp4\">\n",
    "      Your browser does not support the video tag.\n",
    "    </video>\n",
    "    \n",
    "    <div style=\"margin-top:10px;display:block;\">\n",
    "      {buttons_html}\n",
    "    </div>\n",
    "    \n",
    "    <script>\n",
    "      var video = document.getElementById('{video_id}');\n",
    "    \n",
    "      function jumpTo(time) {{\n",
    "        video.currentTime = time;\n",
    "        video.play();\n",
    "      }}\n",
    "    </script>\n",
    "    \"\"\"\n",
    "    \n",
    "    display(HTML(html))"
   ]
  },
  {
   "cell_type": "markdown",
   "id": "c8b8645a-7107-4930-96c8-6821d74649df",
   "metadata": {},
   "source": [
    "## Search text input\n",
    "You can search video embeddings generated by the Nova Multimodal Embedding model across various modalities such as text, image, video, and audio. In the following example, a text query is used to search the embeddings produced by the asynchronous process stored in S3, returning the top N results.\n",
    "\n",
    "The following example demonstrates searching with an input text. Here, we use the synchronous [InvokeModel API](https://docs.aws.amazon.com/bedrock/latest/APIReference/API_runtime_InvokeModel.html) to generate an embedding for the given text. As a best practice, when providing a search text input, include the following prefix to improve accuracy:\n",
    "`Instruction: Find an image, video, or document that matches the following description:\\nQuery:`"
   ]
  },
  {
   "cell_type": "code",
   "execution_count": null,
   "id": "534f4eb0-1b1c-478f-97ec-8216f9cce060",
   "metadata": {},
   "outputs": [],
   "source": [
    "text_input = \"two men having a conversation\"\n",
    "\n",
    "request_body = {\n",
    "    \"taskType\": \"SINGLE_EMBEDDING\",\n",
    "    \"singleEmbeddingParams\": {\n",
    "        \"embeddingPurpose\": \"VIDEO_RETRIEVAL\",\n",
    "        \"embeddingDimension\": dim,\n",
    "        \"text\": {\n",
    "            \"truncationMode\": \"NONE\", # \"START\" | \"END\" | \"NONE\"\n",
    "            \"value\": text_input\n",
    "        },\n",
    "    },\n",
    "}\n",
    "\n",
    "# Invoke the Nova Embeddings model.\n",
    "response = bedrock.invoke_model(\n",
    "    body=json.dumps(request_body),\n",
    "    modelId=model_id,\n",
    "    accept=\"application/json\",\n",
    "    contentType=\"application/json\",\n",
    ")\n",
    "\n",
    "# Decode the response body.\n",
    "response_body = json.loads(response.get(\"body\").read())\n",
    "response_metadata = response[\"ResponseMetadata\"]\n",
    "\n",
    "display(JSON(response_body))"
   ]
  },
  {
   "cell_type": "markdown",
   "id": "24e68947-14e5-45b8-b0bf-71be9dc6291a",
   "metadata": {},
   "source": [
    "Perform a search against the S3 vector index and display the retrieved videos and clips in HTML. Use the buttons below each video to jump directly to the timestamp where the clip begins."
   ]
  },
  {
   "cell_type": "code",
   "execution_count": null,
   "id": "970f89de-f0de-4091-9efc-d88bb634c0cc",
   "metadata": {},
   "outputs": [],
   "source": [
    "search_response = search_s3_vectors(response_body[\"embeddings\"][0][\"embedding\"])\n",
    "display_video_clips(search_response)"
   ]
  },
  {
   "cell_type": "markdown",
   "id": "f585b1a3-2b9d-404e-a6eb-c1768e8e8c06",
   "metadata": {},
   "source": [
    "## Search image input"
   ]
  },
  {
   "cell_type": "markdown",
   "id": "1357dfb2-e430-40bc-b1c7-ec038d27592a",
   "metadata": {},
   "source": [
    "Similar to text input search, you can also use image, video, or audio as input to search the video clip embeddings. The following example demonstrates searching with an input image. Here, we use the synchronous [InvokeModel API](https://docs.aws.amazon.com/bedrock/latest/APIReference/API_runtime_InvokeModel.html) to generate an embedding for the given image, which is passed as a Base64 string in the API request payload.\n",
    "\n",
    "The input image is a car appeared in the video:\n",
    "\n",
    "<img src=\"./images/meridian-car.png\" alt=\"image input\" width=\"50%\">"
   ]
  },
  {
   "cell_type": "code",
   "execution_count": null,
   "id": "f8091be1-ffeb-4146-a7b6-dbb5b5cafa57",
   "metadata": {},
   "outputs": [],
   "source": [
    "import base64, io\n",
    "\n",
    "# Search by image\n",
    "base64_str = None\n",
    "with open(\"./images/meridian-car.png\", \"rb\") as file:\n",
    "    base64_str = base64.b64encode(file.read()).decode(\"utf-8\")\n",
    "\n",
    "request_body = {\n",
    "    \"taskType\": \"SINGLE_EMBEDDING\",\n",
    "    \"singleEmbeddingParams\": {\n",
    "        \"embeddingPurpose\": \"VIDEO_RETRIEVAL\",\n",
    "        \"embeddingDimension\": dim,\n",
    "        \"image\": {\n",
    "            \"format\": \"png\",\n",
    "            \"detailLevel\": \"LOW\",\n",
    "            \"source\": {\"bytes\": base64_str},\n",
    "        },\n",
    "    },\n",
    "}\n",
    "\n",
    "# Invoke the Nova Embeddings model.\n",
    "response = bedrock.invoke_model(\n",
    "    body=json.dumps(request_body),\n",
    "    modelId=model_id,\n",
    "    accept=\"application/json\",\n",
    "    contentType=\"application/json\",\n",
    ")\n",
    "\n",
    "# Decode the response body.\n",
    "response_body = json.loads(response.get(\"body\").read())\n",
    "response_metadata = response[\"ResponseMetadata\"]\n",
    "\n",
    "display(JSON(response_body))"
   ]
  },
  {
   "cell_type": "code",
   "execution_count": null,
   "id": "f9cc1b97-609a-4645-a915-e96a2d6144df",
   "metadata": {},
   "outputs": [],
   "source": [
    "image_search_response = search_s3_vectors(response_body[\"embeddings\"][0][\"embedding\"])\n",
    "display_video_clips(image_search_response)"
   ]
  },
  {
   "cell_type": "markdown",
   "id": "01f0d777-b19e-44cb-b19e-449e790dc9a7",
   "metadata": {},
   "source": [
    "## Cleanup\n",
    "Delete the video and the embedding files from S3. Delete the S3 vector store and index."
   ]
  },
  {
   "cell_type": "code",
   "execution_count": null,
   "id": "699066c5-59a6-40c5-814d-731613f02c96",
   "metadata": {},
   "outputs": [],
   "source": [
    "# List all objects under the prefix\n",
    "response = s3.list_objects_v2(Bucket=s3_bucket, Prefix=s3_prefix)\n",
    "\n",
    "if 'Contents' in response:\n",
    "    # Create a list of object identifiers to delete\n",
    "    objects_to_delete = [{'Key': obj['Key']} for obj in response['Contents']]\n",
    "\n",
    "    # Delete the objects\n",
    "    s3.delete_objects(\n",
    "        Bucket=s3_bucket,\n",
    "        Delete={'Objects': objects_to_delete}\n",
    "    )\n",
    "    print(f\"Deleted {len(objects_to_delete)} objects from '{s3_prefix}' in bucket '{s3_bucket}'.\")\n",
    "else:\n",
    "    print(f\"No objects found under prefix '{s3_prefix}'.\")\n"
   ]
  },
  {
   "cell_type": "code",
   "execution_count": null,
   "id": "d10ec007-afbd-417f-9382-306ab3a29cf9",
   "metadata": {},
   "outputs": [],
   "source": [
    "# Delete vector index\n",
    "response = s3vectors.delete_index(\n",
    "    vectorBucketName=s3vector_bucket,\n",
    "    indexName=s3vector_index\n",
    ")\n",
    "print(response)\n",
    "\n",
    "response = s3vectors.delete_vector_bucket(\n",
    "    vectorBucketName=s3vector_bucket\n",
    ")"
   ]
  },
  {
   "cell_type": "code",
   "execution_count": null,
   "id": "6b1144ad-844a-4b13-b2db-bd0b32ba8457",
   "metadata": {},
   "outputs": [],
   "source": []
  }
 ],
 "metadata": {
  "kernelspec": {
   "display_name": "Python 3 (ipykernel)",
   "language": "python",
   "name": "python3"
  },
  "language_info": {
   "codemirror_mode": {
    "name": "ipython",
    "version": 3
   },
   "file_extension": ".py",
   "mimetype": "text/x-python",
   "name": "python",
   "nbconvert_exporter": "python",
   "pygments_lexer": "ipython3",
   "version": "3.13.3"
  }
 },
 "nbformat": 4,
 "nbformat_minor": 5
}
