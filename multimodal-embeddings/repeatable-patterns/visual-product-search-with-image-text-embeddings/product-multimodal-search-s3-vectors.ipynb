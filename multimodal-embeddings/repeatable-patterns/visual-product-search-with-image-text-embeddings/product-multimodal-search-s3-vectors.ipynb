{
 "cells": [
  {
   "cell_type": "markdown",
   "id": "3a0b2a41-bebe-4f3a-b803-eadc275a916f",
   "metadata": {},
   "source": [
    "# Product Multimodal Search using Amazon Nova Embedding and S3 Vectors\n",
    "Demonstrate multimodal product search using text descriptions and product images from Amazon Berkeley Objects dataset.\n",
    "\n",
    "- Amazon Nova Mutlimodal Embedding Model\n",
    "- S3 Vectors\n",
    "\n",
    "![Nova MM Embedding](./images/visual-product-search.png)"
   ]
  },
  {
   "cell_type": "code",
   "execution_count": null,
   "id": "11dc6ae2-b86d-449f-80e1-2a5af7da8dd6",
   "metadata": {},
   "outputs": [],
   "source": [
    "!pip install boto3 pandas --upgrade\n",
    "!pip install s3fs"
   ]
  },
  {
   "cell_type": "code",
   "execution_count": null,
   "id": "69e2067a-23c6-4480-bff5-e83b80423f1b",
   "metadata": {},
   "outputs": [],
   "source": [
    "import boto3\n",
    "import pandas as pd\n",
    "import json\n",
    "from datetime import datetime\n",
    "\n",
    "model_id = 'amazon.nova-2-multimodal-embeddings-v1:0'\n",
    "account_id = '<Your AWS account ID>'\n",
    "dim = 3072\n",
    "s3vector_bucket = \"<Your s3 vectors bucket name>\"\n",
    "s3vector_index = \"product\"\n",
    "\n",
    "bedrock = boto3.client(\"bedrock-runtime\", region_name=\"us-east-1\")\n",
    "s3vectors = boto3.client(\"s3vectors\", region_name=\"us-east-1\")"
   ]
  },
  {
   "cell_type": "markdown",
   "id": "8080c0d3-3a50-4f3b-aec0-325744730063",
   "metadata": {},
   "source": [
    "## 1. Create S3 Vector Index"
   ]
  },
  {
   "cell_type": "code",
   "execution_count": null,
   "id": "ab678794-538a-432b-9414-054ade37d191",
   "metadata": {},
   "outputs": [],
   "source": [
    "# Create a S3 vector bucket if not exists\n",
    "s3vectors = boto3.client(\"s3vectors\", region_name=\"us-east-1\")\n",
    "try:\n",
    "    s3vectors.create_vector_bucket(vectorBucketName=s3vector_bucket)\n",
    "    print(f\"Vector bucket '{s3vector_bucket}' created successfully.\")\n",
    "except Exception as ex:    \n",
    "    print(f'Failed to create S3 vector bucket: {s3vector_bucket}', ex)\n",
    "\n",
    "# Delete index\n",
    "s3vectors.delete_index(\n",
    "        vectorBucketName=s3vector_bucket,\n",
    "        indexName=s3vector_index)\n",
    "\n",
    "# Create an index in the vector store if not exists\n",
    "try:\n",
    "    s3vectors.create_index(\n",
    "        vectorBucketName=s3vector_bucket,\n",
    "        indexName=s3vector_index,\n",
    "        dataType='float32',  # Common data type for vector embeddings\n",
    "        dimension=dim,\n",
    "        distanceMetric='cosine' # or 'euclidean'\n",
    "    )\n",
    "    print(f\"Vector index '{s3vector_index}' created successfully in bucket '{s3vector_bucket}'.\")\n",
    "except Exception as ex:    \n",
    "    print(f'Failed to create S3 vector index {s3vector_index} in bucket: {s3vector_bucket}', ex)"
   ]
  },
  {
   "cell_type": "markdown",
   "id": "103306de-9d24-4238-9ef2-41fc51ec52c9",
   "metadata": {},
   "source": [
    "## 2. Load Amazon Berkeley Objects Dataset"
   ]
  },
  {
   "cell_type": "code",
   "execution_count": null,
   "id": "15761bae-8bf6-4511-9381-69570b63c99a",
   "metadata": {},
   "outputs": [],
   "source": [
    "# Load product metadata\n",
    "meta = pd.read_json(\"s3://amazon-berkeley-objects/listings/metadata/listings_0.json.gz\", lines=True)\n",
    "\n",
    "def func_(x):\n",
    "    us_texts = [item[\"value\"] for item in x if item[\"language_tag\"] == \"en_US\"]\n",
    "    return us_texts[0] if us_texts else None\n",
    "\n",
    "meta = meta.assign(item_name_in_en_us=meta.item_name.apply(func_))\n",
    "meta = meta[~meta.item_name_in_en_us.isna()][[\"item_id\", \"item_name_in_en_us\", \"main_image_id\"]]\n",
    "print(f\"#products with US English title: {len(meta)}\")\n",
    "meta.head()"
   ]
  },
  {
   "cell_type": "code",
   "execution_count": null,
   "id": "5cfce3d0-095f-48eb-88d3-a34fa70ca301",
   "metadata": {},
   "outputs": [],
   "source": [
    "# Load image metadata and merge\n",
    "image_meta = pd.read_csv(\"s3://amazon-berkeley-objects/images/metadata/images.csv.gz\")\n",
    "dataset = meta.merge(image_meta, left_on=\"main_image_id\", right_on=\"image_id\")\n",
    "\n",
    "# Create full S3 path for images\n",
    "dataset = dataset.assign(img_full_path='s3://amazon-berkeley-objects/images/small/' + dataset.path.astype(str))\n",
    "print(f\"Final dataset size: {len(dataset)}\")\n",
    "dataset.head()"
   ]
  },
  {
   "cell_type": "markdown",
   "id": "6ff300e1-15ab-40eb-b788-bd0678441b30",
   "metadata": {},
   "source": [
    "## 3. Generate Embeddings for Products"
   ]
  },
  {
   "cell_type": "code",
   "execution_count": null,
   "id": "fe3f42b3-5711-4a86-b12f-cbd818ab9b0e",
   "metadata": {},
   "outputs": [],
   "source": [
    "def generate_text_embedding(text, purpose=\"GENERIC_INDEX\"):\n",
    "    \"\"\"Generate embedding for text\"\"\"\n",
    "    request_body = {\n",
    "        \"taskType\": \"SINGLE_EMBEDDING\",\n",
    "        \"singleEmbeddingParams\": {\n",
    "            \"embeddingDimension\": dim,\n",
    "            \"embeddingPurpose\": purpose,\n",
    "            \"text\": {\"truncationMode\": \"END\", \"value\": text}\n",
    "        }\n",
    "    }\n",
    "    \n",
    "    response = bedrock.invoke_model(\n",
    "        modelId=model_id,\n",
    "        body=json.dumps(request_body)\n",
    "    )\n",
    "    \n",
    "    result = json.loads(response['body'].read())\n",
    "    return result[\"embeddings\"][0][\"embedding\"]\n",
    "\n",
    "import base64\n",
    "\n",
    "def load_file_as_base64(s3_uri):\n",
    "    \"\"\"Download file from S3 and convert to base64\"\"\"\n",
    "    bucket = s3_uri.split('/')[2]\n",
    "    key = '/'.join(s3_uri.split('/')[3:])\n",
    "    \n",
    "    s3 = boto3.client('s3')\n",
    "    obj = s3.get_object(Bucket=bucket, Key=key)\n",
    "    return base64.b64encode(obj['Body'].read()).decode('utf-8')\n",
    "\n",
    "def generate_image_embedding(s3_uri, purpose=\"GENERIC_INDEX\"):\n",
    "    \"\"\"Generate embedding for image\"\"\"\n",
    "    request_body = {\n",
    "        \"taskType\": \"SINGLE_EMBEDDING\",\n",
    "        \"singleEmbeddingParams\": {\n",
    "            \"embeddingPurpose\": purpose,\n",
    "            \"embeddingDimension\": dim,\n",
    "            \"image\": {\n",
    "                \"format\": \"jpeg\",\n",
    "                \"detailLevel\": \"STANDARD_IMAGE\",\n",
    "                \"source\": {\"bytes\": load_file_as_base64(s3_uri)},\n",
    "            },\n",
    "        },\n",
    "    }\n",
    "    \n",
    "    response = bedrock.invoke_model(\n",
    "        modelId=model_id,\n",
    "        body=json.dumps(request_body)\n",
    "    )\n",
    "    \n",
    "    result = json.loads(response['body'].read())\n",
    "    return result[\"embeddings\"][0][\"embedding\"]"
   ]
  },
  {
   "cell_type": "code",
   "execution_count": null,
   "id": "b424a429-f70c-4a93-b009-14d7124a24ce",
   "metadata": {},
   "outputs": [],
   "source": [
    "# Process products and generate embeddings\n",
    "import numpy as np\n",
    "from tqdm import tqdm\n",
    "\n",
    "# Take first 100 products for demo\n",
    "sample_dataset = dataset.head(100)\n",
    "embeddings = []\n",
    "batch_size = 10\n",
    "\n",
    "for idx, row in tqdm(sample_dataset.iterrows(), total=len(sample_dataset), desc=\"Processing products\"):\n",
    "    try:\n",
    "        # Generate text embedding\n",
    "        text_embed = generate_text_embedding(row['item_name_in_en_us'])\n",
    "        \n",
    "        # Generate image embedding\n",
    "        img_embed = generate_image_embedding(row['img_full_path'])\n",
    "        \n",
    "        # Combine embeddings (average)\n",
    "        combined_embed = [(t + i) / 2 for t, i in zip(text_embed, img_embed)]\n",
    "        \n",
    "        # Store embeddings\n",
    "        embeddings.extend([\n",
    "            {\n",
    "                \"key\": f\"combined-{row['item_id']}\",\n",
    "                \"data\": {\"float32\": combined_embed},\n",
    "                \"metadata\": {\n",
    "                    \"item_id\": row['item_id'],\n",
    "                    \"item_name\": row['item_name_in_en_us'],\n",
    "                    \"img_path\": row['img_full_path'],\n",
    "                    \"type\": \"combined\"\n",
    "                }\n",
    "            }\n",
    "        ])\n",
    "        \n",
    "        # Batch upload to S3 vectors\n",
    "        if len(embeddings) >= batch_size * 3:\n",
    "            s3vectors.put_vectors(\n",
    "                vectorBucketName=s3vector_bucket,\n",
    "                indexName=s3vector_index,\n",
    "                vectors=embeddings\n",
    "            )\n",
    "            print(f\"Uploaded batch ending with item {row['item_id']}\")\n",
    "            embeddings = []\n",
    "            \n",
    "    except Exception as e:\n",
    "        print(f\"Error processing item {row['item_id']}: {e}\")\n",
    "        continue\n",
    "\n",
    "# Upload remaining embeddings\n",
    "if embeddings:\n",
    "    s3vectors.put_vectors(\n",
    "        vectorBucketName=s3vector_bucket,\n",
    "        indexName=s3vector_index,\n",
    "        vectors=embeddings\n",
    "    )\n",
    "    print(\"Uploaded final batch\")\n",
    "\n",
    "print(\"Embedding generation and upload complete\")"
   ]
  },
  {
   "cell_type": "markdown",
   "id": "de98958e-a153-41b6-b508-ce8b90426343",
   "metadata": {},
   "source": [
    "## 4. Test Search Functionality"
   ]
  },
  {
   "cell_type": "code",
   "execution_count": null,
   "id": "8ab52c38-d609-49b0-951f-3bae1fe5fd3b",
   "metadata": {},
   "outputs": [],
   "source": [
    "def search_products(query_embed, topK=3):\n",
    "    \"\"\"Search products using embedding\"\"\"\n",
    "    response = s3vectors.query_vectors(\n",
    "        vectorBucketName=s3vector_bucket,\n",
    "        indexName=s3vector_index,\n",
    "        queryVector={\"float32\": query_embed},\n",
    "        topK=topK,\n",
    "        returnDistance=True,\n",
    "        returnMetadata=True\n",
    "    )\n",
    "    return response\n",
    "\n",
    "def display_results(search_response):\n",
    "    \"\"\"Display search results with images\"\"\"\n",
    "    from IPython.display import display, HTML\n",
    "    \n",
    "    html_content = \"\"\n",
    "    for i, result in enumerate(search_response['vectors']):\n",
    "        metadata = result['metadata']\n",
    "        \n",
    "        # Generate presigned URL for image\n",
    "        bucket = metadata['img_path'].split('/')[2]\n",
    "        key = '/'.join(metadata['img_path'].split('/')[3:])\n",
    "        img_url = boto3.client('s3').generate_presigned_url(\n",
    "            'get_object', Params={'Bucket': bucket, 'Key': key}, ExpiresIn=3600\n",
    "        )\n",
    "        \n",
    "        html_content += f\"\"\"\n",
    "        <div style=\"border: 1px solid #ccc; margin: 10px; padding: 10px; display: flex; align-items: center;\">\n",
    "            <img src=\"{img_url}\" style=\"width: 150px; height: 150px; object-fit: contain; margin-right: 20px;\">\n",
    "            <div>\n",
    "                <h3>{i+1}. {metadata['item_name']}</h3>\n",
    "                <p><strong>Type:</strong> {metadata['type']} | <strong>Distance:</strong> {result['distance']:.3f}</p>\n",
    "                <p><strong>Item ID:</strong> {metadata['item_id']}</p>\n",
    "            </div>\n",
    "        </div>\n",
    "        \"\"\"\n",
    "    \n",
    "    display(HTML(html_content))"
   ]
  },
  {
   "cell_type": "markdown",
   "id": "a153-41b6-b508-ce8b90426343",
   "metadata": {},
   "source": [
    "### a. Query with Image"
   ]
  },
  {
   "cell_type": "code",
   "execution_count": null,
   "id": "b508-ce8b90426343-a153",
   "metadata": {},
   "outputs": [],
   "source": [
    "# Test image query - use an image from the dataset\n",
    "test_image_path = sample_dataset.iloc[0]['img_full_path']\n",
    "\n",
    "# Display query image\n",
    "from IPython.display import display, HTML\n",
    "bucket = test_image_path.split('/')[2]\n",
    "key = '/'.join(test_image_path.split('/')[3:])\n",
    "query_img_url = boto3.client('s3').generate_presigned_url('get_object', Params={'Bucket': bucket, 'Key': key}, ExpiresIn=3600)\n",
    "display(HTML(f'<h3>Query Image:</h3><img src=\"{query_img_url}\" style=\"width: 200px; height: 200px; object-fit: contain; border: 2px solid #007acc;\">'))\n",
    "\n",
    "query_embed = generate_image_embedding(test_image_path)\n",
    "results = search_products(query_embed)\n",
    "print(\"\\nImage Search Results:\")\n",
    "display_results(results)"
   ]
  },
  {
   "cell_type": "markdown",
   "id": "b508-ce8b90426343-b153",
   "metadata": {},
   "source": [
    "### b. Query with Text Only"
   ]
  },
  {
   "cell_type": "code",
   "execution_count": null,
   "id": "c508-ce8b90426343-a153",
   "metadata": {},
   "outputs": [],
   "source": [
    "# Test text query\n",
    "query_text = \"15-ounce drinkware\"\n",
    "print(f\"Searching for: {query_text}\")\n",
    "\n",
    "query_embed = generate_text_embedding(query_text, \"IMAGE_RETRIEVAL\")\n",
    "results = search_products(query_embed)\n",
    "print(\"\\nText Search Results:\")\n",
    "display_results(results)"
   ]
  },
  {
   "cell_type": "markdown",
   "id": "d508-ce8b90426343-a153",
   "metadata": {},
   "source": [
    "### c. Query with Hybrid Image and Text"
   ]
  },
  {
   "cell_type": "code",
   "execution_count": null,
   "id": "e508-ce8b90426343-a153",
   "metadata": {},
   "outputs": [],
   "source": [
    "# Test hybrid query\n",
    "query_text = \"AmazonBasics drinkware set\"\n",
    "test_image_path = dataset.iloc[101]['img_full_path']  # Different image\n",
    "\n",
    "# Display query image\n",
    "bucket = test_image_path.split('/')[2]\n",
    "key = '/'.join(test_image_path.split('/')[3:])\n",
    "query_img_url = boto3.client('s3').generate_presigned_url('get_object', Params={'Bucket': bucket, 'Key': key}, ExpiresIn=3600)\n",
    "display(HTML(f'<h3>Hybrid Query - Text: \"{query_text}\"</h3><img src=\"{query_img_url}\" style=\"width: 200px; height: 200px; object-fit: contain; border: 2px solid #007acc;\">'))\n",
    "\n",
    "text_embed = generate_text_embedding(query_text, \"GENERIC_RETRIEVAL\")\n",
    "img_embed = generate_image_embedding(test_image_path, \"GENERIC_RETRIEVAL\")\n",
    "\n",
    "# Combine embeddings (average)\n",
    "hybrid_embed = [(t + i) / 2 for t, i in zip(text_embed, img_embed)]\n",
    "\n",
    "results = search_products(hybrid_embed)\n",
    "print(\"\\nHybrid Search Results:\")\n",
    "display_results(results)"
   ]
  },
  {
   "cell_type": "code",
   "execution_count": null,
   "id": "bb2aa004-23a9-4e63-92da-245b2d96bd54",
   "metadata": {},
   "outputs": [],
   "source": []
  }
 ],
 "metadata": {
  "kernelspec": {
   "display_name": "Python 3 (ipykernel)",
   "language": "python",
   "name": "python3"
  },
  "language_info": {
   "codemirror_mode": {
    "name": "ipython",
    "version": 3
   },
   "file_extension": ".py",
   "mimetype": "text/x-python",
   "name": "python",
   "nbconvert_exporter": "python",
   "pygments_lexer": "ipython3",
   "version": "3.13.3"
  }
 },
 "nbformat": 4,
 "nbformat_minor": 5
}
