{
 "cells": [
  {
   "cell_type": "markdown",
   "id": "d53deabf-1010-461d-bd9a-6b42af53baa7",
   "metadata": {},
   "source": [
    "# Email assistant with Strands Agents SDK\n",
    "\n",
    "This notebook demonstrates how to build an email assistant with Strands Agents SDK.\n",
    "\n",
    "We are going to interact with the agents, using a Streamlit UI. The user will be abled to choose between three agents:\n",
    "\n",
    "* **Image agent**: AI Image Generator and File Manager. It can generate an image based on the user description.\n",
    "* **Audio RAG**: Audio Knowledge Base. Ask questions about audio content in the Bedrock knowledge base. This KB was created using Bedrock Data Automation (BDA) as parser and Amazon earning calls audio file as source data.\n",
    "* **Email assistant agent**: Enhanced Email Assistant with RAG and Image Generation. This assistant can create professional emails using tools and other agents - Search web resources, retrieve relevant audio context (using Audio RAG agent) and generate appropriate images (using Image agent).\n",
    "* **Report Writing**: report_agent process with planning and writing\n",
    "\n",
    "\n",
    "By combining these components, our multi-agent system will be able to provide accurate and informative responses to a diverse set of queries.\n",
    "\n",
    "In this nottebbok, you will find the following fils:\n",
    "\n",
    "* **app.py**: Streamlit UI application\n",
    "* **generate_img_streamlit.py**: Strands tool to generate an image using Nova Canvas model and save it to a file.\n",
    "* **ui_utils.py**: Remaining Strands tools, agents and helper functions "
   ]
  },
  {
   "cell_type": "markdown",
   "id": "abb206a7-ffed-4957-88d0-c94f8ffd211d",
   "metadata": {},
   "source": [
    "### Pre-requisite: \n",
    "\n",
    "### Please note, you have to create Bedrock knowledge base for audio files for this notebook. Please run notebooks 1-2 in folder <mark> audio-video-rag. "
   ]
  },
  {
   "cell_type": "markdown",
   "id": "fc059961-54da-44aa-80c0-35fc7f3e41ed",
   "metadata": {},
   "source": [
    "## 1. Install Required Packages\n",
    "\n",
    "First, let's install the necessary packages for our multi-agent system."
   ]
  },
  {
   "cell_type": "code",
   "execution_count": null,
   "id": "013064fd-8bfb-43cd-aefa-30b2a57030e3",
   "metadata": {},
   "outputs": [],
   "source": [
    "!pip install -r requirements.txt -q --no-cache-dir"
   ]
  },
  {
   "cell_type": "markdown",
   "id": "b8097f75-0853-4113-9469-1d1b61839ed3",
   "metadata": {},
   "source": [
    "## 2. Setting Up Environment\n",
    "\n",
    "We need to import required packages and set up the necessary environment variables."
   ]
  },
  {
   "cell_type": "code",
   "execution_count": null,
   "id": "f9e20d52-85c7-4e12-b52d-568506860ba0",
   "metadata": {},
   "outputs": [],
   "source": [
    "import os\n",
    "import sys\n",
    "import json\n",
    "import boto3\n",
    "import sagemaker\n",
    "from generate_img_streamlit import generate_img_streamlit\n",
    "\n",
    "from strands import Agent, tool\n",
    "from strands.models import BedrockModel\n",
    "from strands_tools import retrieve, http_request, think, editor \n",
    "\n",
    "sts_client = boto3.client('sts')\n",
    "account_id = sts_client.get_caller_identity()[\"Account\"]\n",
    "session = sagemaker.Session()\n",
    "\n",
    "region_name = boto3.session.Session().region_name\n",
    "\n",
    "os.environ[\"KNOWLEDGE_BASE_ID\"] = \"HU4YII3DEY\"\n",
    "os.environ[\"MIN_SCORE\"] = \"0.4\"\n",
    "os.environ[\"AWS_REGION\"] = region_name\n"
   ]
  },
  {
   "cell_type": "markdown",
   "id": "873c8a60-2a9a-488d-9dc6-a46f5cb7b8fd",
   "metadata": {},
   "source": [
    "## 3. Streamlit UI\n",
    "\n",
    "Running these code cells will start the Streamlit UI application and show the application endpoint for access"
   ]
  },
  {
   "cell_type": "code",
   "execution_count": null,
   "id": "3ae4e2ed-ab47-4573-a4e7-4ec26ee2ee2f",
   "metadata": {},
   "outputs": [],
   "source": [
    "\n",
    "def get_current_notebook_url():\n",
    "    try:\n",
    "        # Create SageMaker client\n",
    "        sagemaker = boto3.client('sagemaker')\n",
    "        \n",
    "        # Get the current notebook instance name from environment\n",
    "        notebook_name = os.environ.get('NOTEBOOK_INSTANCE_NAME')\n",
    "        \n",
    "        if not notebook_name:\n",
    "            # Alternative way to get instance name from resource metadata\n",
    "            try:\n",
    "                with open('/opt/ml/metadata/resource-metadata.json') as f:\n",
    "                    metadata = json.load(f)\n",
    "                    notebook_name = metadata.get('ResourceName')\n",
    "            except:\n",
    "                pass\n",
    "        \n",
    "        if notebook_name:\n",
    "            # Get presigned URL for the notebook instance\n",
    "            response = sagemaker.create_presigned_notebook_instance_url(\n",
    "                NotebookInstanceName=notebook_name\n",
    "            )\n",
    "            \n",
    "            url = response['AuthorizedUrl']\n",
    "            return url\n",
    "        else:\n",
    "            print(\"Could not determine notebook instance name\")\n",
    "            \n",
    "    except Exception as e:\n",
    "        print(f\"Error getting notebook URL: {str(e)}\")\n",
    "    \n",
    "    return None\n",
    "\n",
    "def get_streamlit_url(text):\n",
    "    question_mark_index = text.find('?')\n",
    "    if question_mark_index != -1:\n",
    "        return text[:question_mark_index] + \"/proxy/absolute/8501\"\n",
    "    return text\n",
    "\n",
    "# Get and print the current notebook URL\n",
    "URL = get_current_notebook_url()\n",
    "\n",
    "streamlit_URL=get_streamlit_url(URL)\n",
    "print(streamlit_URL)\n"
   ]
  },
  {
   "cell_type": "code",
   "execution_count": null,
   "id": "7d627b43-25ec-4acd-9416-3030aa167f03",
   "metadata": {},
   "outputs": [],
   "source": [
    "# Kill any existing Streamlit processes\n",
    "!pkill -f streamlit\n",
    "\n",
    "# Start Streamlit\n",
    "!nohup streamlit run ./app.py --server.baseUrlPath=\"/proxy/absolute/8501\""
   ]
  },
  {
   "attachments": {},
   "cell_type": "markdown",
   "id": "b8fba672-9bc1-451b-af00-fb37ca7014d5",
   "metadata": {},
   "source": [
    "### 4. Test\n",
    "\n",
    "now we can test the email assistant application:\n",
    "\n",
    "1. Choose 'Audio RAG' agent and run the query:\n",
    "   \"can you find an audio file about amazon earning calls?\"\n",
    "   \n",
    "3. Choose 'Image agent' and run the query:\n",
    "   \"Can you shown me an Amazon delivery truck?\"\n",
    "\n",
    "4. Choose 'Email assistant agent' and run the queries in order:\n",
    "    1. \"Help me to write an email about Amazon Q3 earning call\"\n",
    "    2. \"Use my name in the email, John smith\"\n",
    "    3. \"generate an image of Amazon logo and add it at the end of the email\"\n",
    "\n"
   ]
  },
  {
   "cell_type": "code",
   "execution_count": null,
   "id": "f81927f9-875d-403b-b8a1-d45c5eedfa06",
   "metadata": {},
   "outputs": [],
   "source": []
  }
 ],
 "metadata": {
  "kernelspec": {
   "display_name": "conda_python3",
   "language": "python",
   "name": "conda_python3"
  },
  "language_info": {
   "codemirror_mode": {
    "name": "ipython",
    "version": 3
   },
   "file_extension": ".py",
   "mimetype": "text/x-python",
   "name": "python",
   "nbconvert_exporter": "python",
   "pygments_lexer": "ipython3",
   "version": "3.10.18"
  }
 },
 "nbformat": 4,
 "nbformat_minor": 5
}
