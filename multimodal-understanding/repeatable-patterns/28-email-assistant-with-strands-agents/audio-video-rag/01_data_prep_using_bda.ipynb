{
 "cells": [
  {
   "cell_type": "markdown",
   "metadata": {
    "vscode": {
     "languageId": "plaintext"
    }
   },
   "source": [
    "# Amazon Bedrock Knowledge Bases - Audio and Video Data Preparation using Amazon Bedrock Data Automation\n",
    "\n",
    "# Introduction\n",
    "\n",
    "This module demonstrates how to build a Multimodal Retrieval-Augmented Generation (RAG) application using Amazon Bedrock Data Automation (BDA) and Bedrock Knowledge Bases (KB). The application is designed to analyze and generate insights from multi-modalal data, including video and audio data. By incorporating contextual information from your own data sources with BDA, you can create highly accurate and secure intelligent search Generative AI applications.\n",
    "\n",
    "In this notebook, it shows the first step of building this intelligent search application: how to efficiently process video and audio data by using BDA to generate contextual outputs for KB embedding.\n",
    "\n",
    "With the latest integration between BDA and Amazon Bedrock Knowledge Bases, you can specify BDA as parser of your data source for Bedrock Knowledge Bases.\n",
    "\n",
    "## Key Features\n",
    "\n",
    "- Amazon Bedrock Data Automation (BDA): A managed service that automatically extracts content from multimodal data. BDA streamlines the generation of valuable insights from unstructured multimodal content such as documents, images, audio, and videos through a unified multi-modal inference API.\n",
    "  \n",
    "- Bedrock KB to build a RAG solution with BDA: Amazon Bedrock KB extract multi-modal content using BDA, generating semantic embeddings using the selected embedding model, and storing them in the chosen vector store. This enables users to retrieve and generate answers to questions derived not only from text but also from image, video and audio data. Additionally, retrieved results include source attribution for visual data, enhancing transparency and building trust in the generated outputs."
   ]
  },
  {
   "cell_type": "markdown",
   "metadata": {},
   "source": [
    "## Prerequisites\n",
    "Please make sure to enable `Anthropic Claude 3 Sonnet` , `Amazon Nova Micro` and  `Titan Text Embeddings V2` model access in Amazon Bedrock Console\n",
    "\n",
    "You need to have suitable IAM role permission to run this notebook. For IAM role, choose either an existing IAM role in your account or create a new role. The role must the necessary permissions to invoke the BDA, Bedrock KB, create IAM roles, SageMaker and S3 APIs.\n",
    "\n",
    "Note: The AdministratorAccess IAM policy can be used, if allowed by security policies at your organization.\n",
    "\n",
    "<div class=\"alert alert-block alert-info\">\n",
    "<b>Note:</b> Please run the notebook cell one at a time instead of using \"Run All Cells\" option.\n",
    "</div>"
   ]
  },
  {
   "cell_type": "markdown",
   "metadata": {},
   "source": [
    "# Setup notebook and boto3 clients\n",
    "\n",
    "In this step, we will import some necessary libraries that will be used throughout this notebook. To use Amazon Bedrock Data Automation (BDA) with boto3, you'll need to ensure you have the latest version of the AWS SDK for Python (boto3) installed. Version Boto3 1.35.96 of later is required.\n",
    "\n",
    "Note: At time of Public Preview launch, BDA is available in us-west-2 only."
   ]
  },
  {
   "cell_type": "code",
   "execution_count": null,
   "metadata": {},
   "outputs": [],
   "source": [
    "%pip install -r ./requirements.txt --no-deps --quiet"
   ]
  },
  {
   "cell_type": "code",
   "execution_count": null,
   "metadata": {},
   "outputs": [],
   "source": [
    "%pip install \"boto3>=1.37.4\" --upgrade -qq"
   ]
  },
  {
   "cell_type": "code",
   "execution_count": null,
   "metadata": {},
   "outputs": [],
   "source": [
    "# restart kernel\n",
    "from IPython.core.display import HTML\n",
    "HTML(\"<script>Jupyter.notebook.kernel.restart()</script>\")"
   ]
  },
  {
   "cell_type": "code",
   "execution_count": null,
   "metadata": {},
   "outputs": [],
   "source": [
    "%load_ext autoreload\n",
    "%autoreload 2\n",
    "\n",
    "import warnings\n",
    "warnings.filterwarnings('ignore')"
   ]
  },
  {
   "cell_type": "markdown",
   "metadata": {},
   "source": [
    "<div class=\"alert alert-block alert-info\">\n",
    "<b>Note:</b> In this workshop, a new S3 bucket following the naming convention \"kb-bda-multimodal-datasource-{account_id}\" will be used, and the input and output will be saved under a folder called \"bda\" in the default bucket.\n",
    "</div>"
   ]
  },
  {
   "cell_type": "code",
   "execution_count": null,
   "metadata": {},
   "outputs": [],
   "source": [
    "import boto3\n",
    "from botocore.exceptions import ClientError\n",
    "import os\n",
    "import json, uuid\n",
    "from datetime import datetime\n",
    "import time\n",
    "from time import sleep\n",
    "import pprint\n",
    "import random\n",
    "from retrying import retry\n",
    "import sys\n",
    "\n",
    "from tqdm import tqdm\n",
    "from pathlib import Path\n",
    "import tempfile\n",
    "import io\n",
    "import base64\n",
    "from IPython.display import JSON, IFrame, Audio, display, clear_output\n",
    "import IPython.display as display\n",
    "import sagemaker\n",
    "import logging\n",
    "import requests\n",
    "\n",
    "\n",
    "current_path = Path().resolve()\n",
    "# Add to sys.path if not already there\n",
    "if str(current_path) not in sys.path:\n",
    "    sys.path.append(str(current_path))\n",
    "    \n",
    "from utils.knowledge_base import BedrockKnowledgeBase\n",
    "from utils.knowledge_base_operators import bucket_exists\n",
    "\n",
    "#create client\n",
    "suffix = random.randrange(200, 900)\n",
    "\n",
    "sts_client = boto3.client('sts')\n",
    "account_id = sts_client.get_caller_identity()[\"Account\"]\n",
    "\n",
    "session = sagemaker.Session()\n",
    "bucket_name = session.default_bucket()\n",
    "\n",
    "region_name = boto3.session.Session().region_name\n",
    "\n",
    "sts = boto3.client('sts')\n",
    "account_id = sts.get_caller_identity()['Account']\n",
    "\n",
    "s3_client = boto3.client('s3', region_name=region_name)\n",
    "# Initialize Bedrock Data Automation client\n",
    "bda_client = boto3.client('bedrock-data-automation', region_name=region_name)\n",
    "bda_runtime_client = boto3.client('bedrock-data-automation-runtime', region_name=region_name)\n",
    "\n",
    "\n",
    "bda_s3_input_location = f's3://{bucket_name}/bda/input'\n",
    "bda_s3_output_location = f's3://{bucket_name}/bda/output'"
   ]
  },
  {
   "cell_type": "code",
   "execution_count": null,
   "metadata": {},
   "outputs": [],
   "source": [
    "bucket_name_kb = f'bda-kb-{suffix}-1' # replace it with your first bucket name.\n",
    "\n",
    "# Create S3 bucket for the KB if it doesn't exist\n",
    "if not bucket_exists(bucket_name_kb):\n",
    "    print(f\"Bucket '{bucket_name_kb}' does not exist. Creating it now...\")\n",
    "    s3_client.create_bucket(Bucket=bucket_name_kb)\n",
    "    \n",
    "    print(f\"Bucket '{bucket_name_kb}' created successfully.\")\n",
    "else:\n",
    "    print(f\"Bucket '{bucket_name_kb}' already exists.\")\n",
    "\n",
    "\n",
    "bucket_name_input = f's3://{bucket_name_kb}/bda/input'      # DBA input path\n",
    "bucket_name_output = f's3://{bucket_name_kb}/bda/output'    # DBA output path\n",
    "\n",
    "logging.basicConfig(format='[%(asctime)s] p%(process)s {%(filename)s:%(lineno)d} %(levelname)s - %(message)s', level=logging.INFO)\n",
    "logger = logging.getLogger(__name__)"
   ]
  },
  {
   "cell_type": "markdown",
   "metadata": {},
   "source": [
    "## Create a BDA project\n",
    "To start a BDA job, you need a BDA project, which organizes both standard and custom output configurations. This project is reusable, allowing you to apply the same configuration to process multiple video/audio files that share the same settings."
   ]
  },
  {
   "cell_type": "code",
   "execution_count": null,
   "metadata": {},
   "outputs": [],
   "source": [
    "project_name= f'bda-kb-project-{str(uuid.uuid4())[0:4]}'\n",
    "\n",
    "# delete project if it already exists\n",
    "projects_existing = [project for project in bda_client.list_data_automation_projects()[\"projects\"] if project[\"projectName\"] == project_name]\n",
    "if len(projects_existing) >0:\n",
    "    print(f\"Deleting existing project: {projects_existing[0]}\")\n",
    "    bda_client.delete_data_automation_project(projectArn=projects_existing[0][\"projectArn\"])"
   ]
  },
  {
   "cell_type": "code",
   "execution_count": null,
   "metadata": {},
   "outputs": [],
   "source": [
    "#BDA API standard output schema\n",
    "response = bda_client.create_data_automation_project(\n",
    "    projectName=project_name,\n",
    "    projectDescription='BDA audio processing project',\n",
    "    projectStage='DEVELOPMENT',\n",
    "    standardOutputConfiguration={\n",
    "        \n",
    "        \"audio\": {\n",
    "            \"extraction\": {\n",
    "                \"category\": {\n",
    "                    \"state\": \"ENABLED\", \n",
    "                    \"types\": [\"AUDIO_CONTENT_MODERATION\", \"TOPIC_CONTENT_MODERATION\", \"TRANSCRIPT\"]\n",
    "                }\n",
    "            },\n",
    "            \"generativeField\": {\n",
    "                \"state\": \"ENABLED\",\n",
    "                \"types\": [\"AUDIO_SUMMARY\", \"TOPIC_SUMMARY\", \"IAB\"]\n",
    "            }\n",
    "        }\n",
    "    }\n",
    ")"
   ]
  },
  {
   "cell_type": "code",
   "execution_count": null,
   "metadata": {},
   "outputs": [],
   "source": [
    "kb_project_arn = response.get(\"projectArn\")\n",
    "print(\"BDA kb project ARN:\", kb_project_arn)"
   ]
  },
  {
   "cell_type": "code",
   "execution_count": null,
   "metadata": {},
   "outputs": [],
   "source": [
    " # Upload an audio file\n",
    "from IPython.display import Audio,Video, display\n",
    "\n",
    "# URL of the audio file\n",
    "url = \"https://s2.q4cdn.com/299287126/files/doc_financials/2024/q3/Amazon-Quarterly-Earnings-Report-Q3-2024-Full-Call-v2.wav\"\n",
    "\n",
    "# Define your bucket name and desired object key\n",
    "object_name = \"bda/input/earnings-call-q3-2024.wav\"  # Adjust the path/filename as needed\n",
    "\n",
    "# Stream the file from URL to S3\n",
    "response = requests.get(url, stream=True)\n",
    "s3_client.upload_fileobj(\n",
    "    response.raw,\n",
    "    bucket_name,\n",
    "    object_name\n",
    ")\n"
   ]
  },
  {
   "cell_type": "markdown",
   "metadata": {},
   "source": [
    "# Start BDA task audio"
   ]
  },
  {
   "cell_type": "code",
   "execution_count": null,
   "metadata": {},
   "outputs": [],
   "source": [
    "# Start BDA task audio\n",
    "print(f\"Invoking bda - input: s3://{bucket_name}/{input_name}\")\n",
    "print(f\"Invoking bda - output: s3://{bucket_name}/{output_name}\")\n",
    "\n",
    "input_name = object_name\n",
    "output_name = f'bda/output/' \n",
    "\n",
    "response_aud = bda_runtime_client.invoke_data_automation_async(\n",
    "    inputConfiguration={'s3Uri':  f\"s3://{bucket_name}/{input_name}\"},\n",
    "    outputConfiguration={'s3Uri': f\"s3://{bucket_name}/{output_name}\"},\n",
    "    dataAutomationProfileArn= f'arn:aws:bedrock:{region_name}:{account_id}:data-automation-profile/us.data-automation-v1',\n",
    "    dataAutomationConfiguration={\n",
    "        'dataAutomationProjectArn': kb_project_arn,\n",
    "        'stage': 'DEVELOPMENT'\n",
    "    })\n",
    "response_aud"
   ]
  },
  {
   "cell_type": "code",
   "execution_count": null,
   "metadata": {},
   "outputs": [],
   "source": [
    "invocation_audio_arn = response_aud.get(\"invocationArn\")\n",
    "print(\"BDA audio task started:\", invocation_audio_arn)"
   ]
  },
  {
   "cell_type": "markdown",
   "metadata": {},
   "source": [
    "### We can monitor the progress status of BDA task execution, by running the code cell below"
   ]
  },
  {
   "cell_type": "code",
   "execution_count": null,
   "metadata": {},
   "outputs": [],
   "source": [
    "statusAudio, status_aud_response = None, None\n",
    "while statusAudio not in [\"Success\",\"ServiceError\",\"ClientError\"] :\n",
    "    status_aud_response = bda_runtime_client.get_data_automation_status(\n",
    "        invocationArn=invocation_audio_arn\n",
    "    )\n",
    "    print(status_aud_response)\n",
    "    statusAudio = status_aud_response.get(\"status\")\n",
    "    \n",
    "    clear_output(wait=True)\n",
    "    print(f\"{datetime.now().strftime('%H:%M:%S')} : \"\\\n",
    "          f\"BDA kb audio task: {statusAudio}\")\n",
    "    time.sleep(5)\n",
    "\n",
    "output_aud_config = status_aud_response.get(\"outputConfiguration\",{}).get(\"s3Uri\")\n",
    "print(\"Ouput configuration file:\", output_aud_config)"
   ]
  },
  {
   "cell_type": "markdown",
   "metadata": {},
   "source": [
    "# Examine the BDA output for the processed audio file"
   ]
  },
  {
   "cell_type": "code",
   "execution_count": null,
   "metadata": {},
   "outputs": [],
   "source": [
    "out_aud_loc = status_aud_response['outputConfiguration']['s3Uri'].split(\"/job_metadata.json\", 1)[0].split(bucket_name+\"/\")[1]\n",
    "out_aud_loc += \"/0/standard_output/0/result.json\"\n",
    "print(out_aud_loc)\n",
    "s3_client.download_file(bucket_name, out_aud_loc, 'result_aud.json')"
   ]
  },
  {
   "cell_type": "code",
   "execution_count": null,
   "metadata": {},
   "outputs": [],
   "source": [
    "data_vid = json.load(open('result_aud.json'))\n",
    "print(data_vid[\"audio\"][\"summary\"])"
   ]
  },
  {
   "cell_type": "markdown",
   "metadata": {},
   "source": [
    "## Conclusion\n",
    "\n",
    "Congrats! By following this notebook, you finished the BDA processing of video and audio files, and you are ready to build a robust Multimodal RAG application tailored to your specific needs in the next notebook: 02_audio_video_rag_kb."
   ]
  },
  {
   "cell_type": "code",
   "execution_count": null,
   "metadata": {},
   "outputs": [],
   "source": []
  }
 ],
 "metadata": {
  "kernelspec": {
   "display_name": "conda_python3",
   "language": "python",
   "name": "conda_python3"
  },
  "language_info": {
   "codemirror_mode": {
    "name": "ipython",
    "version": 3
   },
   "file_extension": ".py",
   "mimetype": "text/x-python",
   "name": "python",
   "nbconvert_exporter": "python",
   "pygments_lexer": "ipython3",
   "version": "3.10.18"
  }
 },
 "nbformat": 4,
 "nbformat_minor": 4
}
