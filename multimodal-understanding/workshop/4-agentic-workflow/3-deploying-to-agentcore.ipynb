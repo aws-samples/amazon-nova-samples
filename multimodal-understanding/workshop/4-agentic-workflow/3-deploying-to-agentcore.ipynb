{
 "cells": [
  {
   "cell_type": "markdown",
   "id": "header",
   "metadata": {},
   "source": [
    "# Deploying MCP Server to AWS Bedrock Agent Core Runtime\n",
    "\n",
    "In this notebook, we'll deploy our restaurant booking MCP server to **AWS Bedrock Agent Core Runtime** - a serverless platform designed for AI agents and tools.\n",
    "\n",
    "## What is AWS Bedrock Agent Core Runtime?\n",
    "\n",
    "Agent Core Runtime provides:\n",
    "- **Serverless deployment** - No infrastructure management\n",
    "- **Secure isolation** - Each session runs in its own environment\n",
    "- **MCP protocol support** - Native support for Model Context Protocol\n",
    "- **Auto-scaling** - Handles traffic spikes automatically\n",
    "- **Framework agnostic** - Works with any agent framework\n",
    "\n",
    "Learn more: [Agent Core Documentation](https://docs.aws.amazon.com/bedrock-agentcore/latest/devguide/agents-tools-runtime.html)"
   ]
  },
  {
   "cell_type": "markdown",
   "id": "step1",
   "metadata": {},
   "source": [
    "## Step 1: Load Table Name from Previous Notebook"
   ]
  },
  {
   "cell_type": "code",
   "execution_count": null,
   "id": "5ba7552d",
   "metadata": {},
   "outputs": [],
   "source": [
    "%store -r \n",
    "print(f\"Using DynamoDB table: {table_name}\")"
   ]
  },
  {
   "cell_type": "code",
   "execution_count": null,
   "id": "e2e946c4",
   "metadata": {},
   "outputs": [],
   "source": [
    "%pip install -r requirements.txt --quiet"
   ]
  },
  {
   "cell_type": "markdown",
   "id": "step2",
   "metadata": {},
   "source": [
    "## Step 2: Examine Our Enhanced MCP Server\n",
    "\n",
    "Let's look at our revised MCP file that we'll be deploying to Agent Core Runtime. This version includes an `update_booking` method to update existing bookings."
   ]
  },
  {
   "cell_type": "code",
   "execution_count": null,
   "id": "44fc1cff",
   "metadata": {},
   "outputs": [],
   "source": [
    "# Display the key components of our MCP server\n",
    "with open('restaurant_mcp_agentcore_rt.py', 'r') as f:\n",
    "    lines = f.readlines()\n",
    "    \n",
    "print(\"Key components of our MCP server:\")\n",
    "print(\"1. BedrockAgentCoreApp integration\")\n",
    "print(\"2. Strands agent framework\")\n",
    "print(\"3. Amazon Nova Pro model\")\n",
    "print(\"4. DynamoDB operations (create, read, update, delete bookings)\")\n",
    "print(\"5. Structured logging for production\")\n",
    "print(\"\\nTotal lines of code:\", len(lines))"
   ]
  },
  {
   "cell_type": "markdown",
   "id": "step3",
   "metadata": {},
   "source": [
    "## Step 3: Create Agent Core Execution Role\n",
    "\n",
    "Before deploying, we need to create an **execution role** that grants our agent permissions to:\n",
    "- Access DynamoDB tables\n",
    "- Invoke Bedrock models  \n",
    "- Write logs to CloudWatch\n",
    "- Access ECR repositories"
   ]
  },
  {
   "cell_type": "code",
   "execution_count": null,
   "id": "b2c54d25",
   "metadata": {},
   "outputs": [],
   "source": [
    "from utils import create_agent_core_execution_role\n",
    "\n",
    "# Create execution role for our restaurant booking agent\n",
    "agent_core_role_arn = create_agent_core_execution_role(\n",
    "    agent_name='restaurant_booking',\n",
    "    dynamodb_table_name=table_name\n",
    ")\n",
    "\n",
    "print(f\"Agent Core Role ARN: {agent_core_role_arn}\")\n",
    "\n",
    "# Store for use in subsequent cells\n",
    "%store agent_core_role_arn"
   ]
  },
  {
   "cell_type": "markdown",
   "id": "step4",
   "metadata": {},
   "source": [
    "## Step 4: Configure Agent Core Deployment\n",
    "\n",
    "Now we'll configure our deployment using the Agent Core CLI. This will:\n",
    "1. Create configuration files (`.bedrock_agentcore.yaml` and `Dockerfile`)\n",
    "2. Set up ECR repository for container storage\n",
    "3. Configure the execution role and dependencies\n",
    "\n",
    "**Note**: the variable `agent_core_role_arn` should already be loaded from above cells. Otherwise, replace with your role ARN for agent core.\n",
    "\n",
    "To build our configuration files, **run the below cell and copy and paste into a terminal session**. Note that this first changes directory to this local directory and assumes you're using sagemaker studio. If you're running this on your own, uncomment the below cell to run `!pwd` and see your current working directory, and `cd` into that instead."
   ]
  },
  {
   "cell_type": "code",
   "execution_count": null,
   "id": "6a6e05f6-0666-48a9-9584-b115ddc52a6d",
   "metadata": {},
   "outputs": [],
   "source": [
    "# !pwd "
   ]
  },
  {
   "cell_type": "code",
   "execution_count": null,
   "id": "b8f3c930-e5e6-4648-a8a2-099a5fd03f76",
   "metadata": {},
   "outputs": [],
   "source": [
    "import os\n",
    "print(\"Run this command in the terminal within this directory:\\n\\n\", f'''cd /home/sagemaker-user/amazon-nova-samples/multimodal-understanding/workshop/4-agentic-workflow && \\\\\n",
    "    agentcore configure -e restaurant_mcp_agentcore_rt.py \\\\\n",
    "    --execution-role {agent_core_role_arn} \\\\\n",
    "    --region \"{os.environ['AWS_REGION']}\" \\\\\n",
    "    --requirements-file \"requirements.txt\" \\\\\n",
    "    --non-interactive \\\\\n",
    "    --authorizer-config null \\\\\n",
    "    --disable-memory \\\\\n",
    "    --ecr \"auto\"''')"
   ]
  },
  {
   "cell_type": "markdown",
   "id": "103aa2ee-8718-41cc-9ff8-b00708c2fda8",
   "metadata": {},
   "source": [
    "You should see something similar to this print to the terminal console, indicating the configuration file has been successfully created:\n",
    "\n",
    "```bash\n",
    "Generated .dockerignore\n",
    "Generated Dockerfile: .bedrock_agentcore/restaurant_mcp_agentcore_rt/Dockerfile\n",
    "Setting 'restaurant_mcp_agentcore_rt' as default agent\n",
    "\n",
    "\n",
    "╭──────────────── Configuration Success ────────────────╮\n",
    "│ Agent Details                                         │\n",
    "│ Agent Name: restaurant_mcp_agentcore_rt               │\n",
    "│ Runtime: None                                         │\n",
    "│ Region: us-east-1                                     │\n",
    "│ Account: <account_id>                                 │\n",
    "│                                                       │\n",
    "│ Configuration                                         │\n",
    "│ Execution Role: arn:aws:iam::<account_id>:role/       │\n",
    "│   AgentCoreExecutionRole_restaurant_booking           │\n",
    "│ ECR Repository: Auto-create                           │\n",
    "│ Authorization: IAM (default)                          │\n",
    "│                                                       │\n",
    "│ Memory: Disabled                                      │\n",
    "│                                                       │\n",
    "│ 📄 Config saved to: /home******/amazon-nova-          │\n",
    "│   samples/multimodal-understanding/workshop/          │\n",
    "│   4-agentic-workflow/.bedrock_agentcore.yaml          │\n",
    "│                                                       │\n",
    "│ Next Steps:                                           │\n",
    "│    agentcore launch                                   │\n",
    "╰───────────────────────────────────────────────────────╯\n",
    "```\n"
   ]
  },
  {
   "cell_type": "markdown",
   "id": "step5",
   "metadata": {},
   "source": [
    "## Step 5: Deploy to Agent Core Runtime\n",
    "\n",
    "Now we'll deploy our agent to the cloud! This uses **CodeBuild** for cloud-based container building (no local Docker required).\n",
    "\n",
    "The deployment process:\n",
    "1. **Package** application with dependencies\n",
    "2. **Build** container image using CodeBuild\n",
    "3. **Push** to ECR repository\n",
    "4. **Deploy** to Agent Core Runtime\n",
    "5. **Create** runtime endpoints"
   ]
  },
  {
   "cell_type": "code",
   "execution_count": null,
   "id": "05247cb7",
   "metadata": {},
   "outputs": [],
   "source": [
    "# Deploy to Agent Core Runtime using CodeBuild\n",
    "!agentcore launch --auto-update-on-conflict"
   ]
  },
  {
   "cell_type": "markdown",
   "id": "step6",
   "metadata": {},
   "source": [
    "## Step 6: Test Our Deployed Agent\n",
    "\n",
    "🎉 **Success!** Your MCP server is now running in the cloud. Let's test it by making a restaurant booking."
   ]
  },
  {
   "cell_type": "code",
   "execution_count": null,
   "id": "63124ef7",
   "metadata": {},
   "outputs": [],
   "source": [
    "# Test creating a new booking\n",
    "!agentcore invoke '{\"prompt\": \"can i make a booking for tonight, for 6 people, at 7 PM? Name is Ferdinand.\"}'"
   ]
  },
  {
   "cell_type": "markdown",
   "id": "step7",
   "metadata": {},
   "source": [
    "**Expected Result**: You should receive a booking confirmation with a unique booking ID.\n",
    "\n",
    "## Step 7: Test Booking Retrieval\n",
    "\n",
    "Let's verify we can retrieve booking details:"
   ]
  },
  {
   "cell_type": "code",
   "execution_count": null,
   "id": "2954d808",
   "metadata": {},
   "outputs": [],
   "source": [
    "# Test retrieving booking details \n",
    "# Replace the booking ID with the one from your previous booking\n",
    "!agentcore invoke '{\"prompt\": \"can you tell me the booking details for booking id 999999.\"}'"
   ]
  },
  {
   "cell_type": "markdown",
   "id": "step8",
   "metadata": {},
   "source": [
    "## Step 8: Test Booking Updates\n",
    "\n",
    "Now let's test our new `update_booking` functionality:"
   ]
  },
  {
   "cell_type": "code",
   "execution_count": null,
   "id": "f7dab574",
   "metadata": {},
   "outputs": [],
   "source": [
    "# Test updating a booking to accommodate more people\n",
    "!agentcore invoke '{\"prompt\": \"can i update a booking i made? Its under Ferdinand. I need it for 10 people now.\"}'"
   ]
  },
  {
   "cell_type": "markdown",
   "id": "step9",
   "metadata": {},
   "source": [
    "## Step 9: Monitor Your Deployment\n",
    "\n",
    "Check the status of your deployment and get information about logs:"
   ]
  },
  {
   "cell_type": "code",
   "execution_count": null,
   "id": "107326b7",
   "metadata": {},
   "outputs": [],
   "source": [
    "# Check deployment status and get monitoring information\n",
    "!agentcore status"
   ]
  },
  {
   "cell_type": "markdown",
   "id": "monitoring",
   "metadata": {},
   "source": [
    "### Understanding the Status Output:\n",
    "\n",
    "The status shows:\n",
    "- **Agent Info**: Name, ID, ARN, timestamps\n",
    "- **Configuration**: Region, account, execution role, ECR repository\n",
    "- **Endpoint Status**: Runtime endpoint status and availability\n",
    "- **Logs**: CloudWatch log locations for debugging\n",
    "\n",
    "### Viewing Logs:\n",
    "```bash\n",
    "aws logs tail /aws/bedrock-agentcore/runtimes/YOUR-AGENT-ID --follow\n",
    "```"
   ]
  },
  {
   "cell_type": "markdown",
   "id": "cleanup",
   "metadata": {},
   "source": [
    "## Step 10: Clean Up Resources\n",
    "\n",
    "⚠️ **Important**: Clean up resources to avoid unnecessary charges. This will permanently delete your agent deployment.\n",
    "\n",
    "First, get your agent runtime ID from the status output above. It should be visible near **Agent ARN** and look something like arn:aws:bedrock-agentcore:us-east-1:9999999999:runtime/restaurant_mcp_agentcore_rt-qSNBClB32D. In this case, the agent runtime id is `restaurant_mcp_agentcore_rt-qSNBClB32D`. Update the below where it says YOUR-AGENT-RUNTIME-ID with this ID, then run it:"
   ]
  },
  {
   "cell_type": "code",
   "execution_count": null,
   "id": "6ebb23ed",
   "metadata": {},
   "outputs": [],
   "source": [
    "import boto3\n",
    "\n",
    "# Initialize the Agent Core Control client\n",
    "agent_rt_client = boto3.client('bedrock-agentcore-control',region_name=os.environ['AWS_REGION'])\n",
    "\n",
    "# Replace 'YOUR-AGENT-RUNTIME-ID' with the actual ID from 'agentcore status'\n",
    "# Example: 'restaurant_mcp_agentcore_rt-lNB6ib7IOm'\n",
    "\n",
    "agent_runtime_id = 'YOUR-AGENT-RUNTIME-ID'  # UPDATE THIS\n",
    "\n",
    "try:\n",
    "    response = agent_rt_client.delete_agent_runtime(\n",
    "        agentRuntimeId=agent_runtime_id\n",
    "    )\n",
    "    print(f\"Deletion initiated. Status: {response['status']}\")\n",
    "    print(f\"Full response: {response}\")\n",
    "except Exception as e:\n",
    "    print(f\"Error deleting agent runtime: {e}\")\n",
    "    print(\"Make sure to replace 'YOUR-AGENT-RUNTIME-ID' with the actual ID from 'agentcore status'\")"
   ]
  },
  {
   "cell_type": "markdown",
   "id": "verify_cleanup",
   "metadata": {},
   "source": [
    "### Verify Deletion\n",
    "\n",
    "Check the status to confirm deletion is in progress:"
   ]
  },
  {
   "cell_type": "code",
   "execution_count": null,
   "id": "89e9899d",
   "metadata": {},
   "outputs": [],
   "source": [
    "# Verify deletion status\n",
    "!agentcore status"
   ]
  },
  {
   "cell_type": "markdown",
   "id": "f8c35e7d",
   "metadata": {},
   "source": [
    "**Expected Result**: The endpoint status should show `Endpoint: DEFAULT (DELETING)` initially, then `Unknown` when deletion is complete (takes a few minutes)."
   ]
  },
  {
   "cell_type": "markdown",
   "id": "summary",
   "metadata": {},
   "source": [
    "## 🎯 Summary\n",
    "\n",
    "Congratulations! You have successfully:\n",
    "\n",
    "✅ **Deployed an MCP Server** to AWS Bedrock Agent Core Runtime  \n",
    "✅ **Configured Security** with proper IAM roles and permissions  \n",
    "✅ **Tested Cloud Deployment** with booking operations  \n",
    "✅ **Monitored Your Agent** using status and logging capabilities  \n",
    "✅ **Cleaned Up Resources** to avoid unnecessary costs  \n",
    "\n",
    "## 🔑 Key Learnings\n",
    "\n",
    "### Agent Core Runtime Benefits:\n",
    "- **Serverless**: No infrastructure management\n",
    "- **Secure**: Isolated execution environments\n",
    "- **Scalable**: Auto-scaling based on demand\n",
    "- **Protocol Support**: Native MCP integration\n",
    "\n",
    "### Deployment Process:\n",
    "1. **Configure**: Set parameters and security\n",
    "2. **Build**: Create containers (CodeBuild recommended)\n",
    "3. **Deploy**: Push to runtime with auto-scaling\n",
    "4. **Monitor**: Track performance via CloudWatch\n",
    "\n",
    "## 📚 Additional Resources\n",
    "\n",
    "- **[Agent Core Developer Guide](https://docs.aws.amazon.com/bedrock-agentcore/latest/devguide/)**: Complete documentation\n",
    "- **[MCP Deployment Guide](https://docs.aws.amazon.com/bedrock-agentcore/latest/devguide/runtime-mcp.html)**: MCP-specific deployment info\n",
    "- **[Runtime Architecture](https://docs.aws.amazon.com/bedrock-agentcore/latest/devguide/runtime-how-it-works.html)**: Understanding the platform\n",
    "\n",
    "## 🚀 Next Steps\n",
    "\n",
    "Consider these next steps for your learning journey:\n",
    "\n",
    "### 1. **Enhance Your Agent**\n",
    "- Add availability checking logic\n",
    "- Implement multiple restaurant locations\n",
    "- Add customer preferences handling\n",
    "\n",
    "### 2. **Production Features**\n",
    "- Set up CI/CD pipelines\n",
    "- Implement monitoring and alerting\n",
    "- Configure auto-scaling policies\n",
    "\n",
    "### 3. **Explore Agent Core Ecosystem**\n",
    "- Try Agent Core Gateway for API integration\n",
    "- Experiment with Agent Core Browser for web automation\n",
    "- Build multi-agent systems with agent-to-agent communication\n",
    "\n",
    "### 4. **Advanced Patterns**\n",
    "- Implement streaming responses\n",
    "- Add memory capabilities\n",
    "- Create complex workflow orchestration\n",
    "\n",
    "Great work on completing this deployment workshop! 🎉"
   ]
  }
 ],
 "metadata": {
  "kernelspec": {
   "display_name": "Python 3 (ipykernel)",
   "language": "python",
   "name": "python3"
  },
  "language_info": {
   "codemirror_mode": {
    "name": "ipython",
    "version": 3
   },
   "file_extension": ".py",
   "mimetype": "text/x-python",
   "name": "python",
   "nbconvert_exporter": "python",
   "pygments_lexer": "ipython3",
   "version": "3.12.9"
  }
 },
 "nbformat": 4,
 "nbformat_minor": 5
}
