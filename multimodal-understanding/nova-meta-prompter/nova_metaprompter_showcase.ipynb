{
 "cells": [
  {
   "cell_type": "markdown",
   "metadata": {},
   "source": [
    "# Amazon Nova Meta Prompter\n",
    "\n",
    "Transform any prompt to align with Amazon Nova guidelines.\n",
    "\n",
    "This tool analyzes your existing prompts and adapts them for Amazon Nova capabilities including:\n",
    "- Up to 1M token context\n",
    "- Structured output formatting\n",
    "- Chain-of-thought reasoning\n",
    "- Clear section-based organization"
   ]
  },
  {
   "cell_type": "markdown",
   "metadata": {},
   "source": [
    "## Setup\n",
    "\n",
    "Configure AWS credentials via environment variables (recommended) or AWS CLI configuration.\n",
    "\n",
    "**Option 1: Environment Variables (Recommended)**\n",
    "```bash\n",
    "import os\n",
    "os.environ[\"AWS_PROFILE\"]=\"your-profile-name\"\n",
    "os.environ[\"AWS_REGION\"]=\"your-aws-region\"\n",
    "```\n",
    "\n",
    "**Option 2: AWS CLI Configuration**\n",
    "```bash\n",
    "aws configure\n",
    "```"
   ]
  },
  {
   "cell_type": "markdown",
   "metadata": {},
   "source": [
    "## Verify Credentials\n",
    "\n",
    "Test your AWS credentials and Bedrock access:"
   ]
  },
  {
   "cell_type": "code",
   "execution_count": 1,
   "metadata": {
    "ExecuteTime": {
     "end_time": "2025-10-08T12:08:03.529497Z",
     "start_time": "2025-10-08T12:08:01.066644Z"
    },
    "execution": {
     "iopub.execute_input": "2025-10-08T12:22:07.963704Z",
     "iopub.status.busy": "2025-10-08T12:22:07.963476Z",
     "iopub.status.idle": "2025-10-08T12:22:09.232385Z",
     "shell.execute_reply": "2025-10-08T12:22:09.232052Z"
    }
   },
   "outputs": [
    {
     "name": "stdout",
     "output_type": "stream",
     "text": [
      "✅ AWS credentials configured successfully\n",
      "   Region: us-east-1\n"
     ]
    }
   ],
   "source": [
    "import boto3\n",
    "\n",
    "try:\n",
    "    # This will use AWS_PROFILE and AWS_REGION from environment\n",
    "    client = boto3.client('bedrock-runtime')\n",
    "    print(\"✅ AWS credentials configured successfully\")\n",
    "    print(f\"   Region: {client.meta.region_name}\")\n",
    "except Exception as e:\n",
    "    print(f\"❌ AWS credentials error: {e}\")\n",
    "    print(\"   Please set AWS_PROFILE and AWS_REGION environment variables\")\n",
    "    print(\"   Or configure using 'aws configure'\")"
   ]
  },
  {
   "cell_type": "markdown",
   "metadata": {},
   "source": [
    "## Imports\n",
    "\n",
    "Import the transform function and display utilities:"
   ]
  },
  {
   "cell_type": "code",
   "execution_count": 2,
   "metadata": {
    "ExecuteTime": {
     "end_time": "2025-10-08T12:08:03.547349Z",
     "start_time": "2025-10-08T12:08:03.540417Z"
    },
    "execution": {
     "iopub.execute_input": "2025-10-08T12:22:09.250397Z",
     "iopub.status.busy": "2025-10-08T12:22:09.250281Z",
     "iopub.status.idle": "2025-10-08T12:22:09.254974Z",
     "shell.execute_reply": "2025-10-08T12:22:09.254677Z"
    }
   },
   "outputs": [
    {
     "name": "stdout",
     "output_type": "stream",
     "text": [
      "✅ Setup complete!\n"
     ]
    }
   ],
   "source": [
    "from IPython.display import display, HTML\n",
    "\n",
    "# Import our transform function from root directory\n",
    "from transform import transform_prompt\n",
    "\n",
    "# Display helper functions\n",
    "def display_section_header(title):\n",
    "    display(HTML(f'<h3 style=\"color: #2E86AB; border-bottom: 2px solid #2E86AB; padding-bottom: 10px;\">{title}</h3>'))\n",
    "\n",
    "def display_original_prompt(prompt, title=\"Original Prompt\"):\n",
    "    display_section_header(title)\n",
    "    display(HTML(f'<div style=\"background-color: #f8f9fa; padding: 15px; border-radius: 5px; border-left: 4px solid #6c757d;\"><pre style=\"white-space: pre-wrap; font-family: monospace;\">{prompt.strip()}</pre></div>'))\n",
    "\n",
    "def display_nova_migration_results(result):\n",
    "    if \"error\" in result:\n",
    "        display(HTML(f'<div style=\"color: red; padding: 10px; border: 1px solid red; border-radius: 5px;\"><strong>Error:</strong> {result[\"error\"]}</div>'))\n",
    "        return\n",
    "    \n",
    "    if 'thinking' in result:\n",
    "        display(HTML('<h4 style=\"color: #2E86AB;\">🧠 Analysis & Thinking</h4>'))\n",
    "        display(HTML(f'<div style=\"background-color: #f8f9fa; padding: 15px; border-radius: 5px; margin-bottom: 20px;\">{result[\"thinking\"].replace(chr(10), \"<br>\")}</div>'))\n",
    "    \n",
    "    if 'nova_draft' in result:\n",
    "        display(HTML('<h4 style=\"color: #A23B72;\">📝 Nova-Aligned Draft</h4>'))\n",
    "        display(HTML(f'<div style=\"background-color: #fff3e0; padding: 15px; border-radius: 5px; margin-bottom: 20px; border-left: 4px solid #A23B72;\"><pre style=\"white-space: pre-wrap; font-family: monospace;\">{result[\"nova_draft\"]}</pre></div>'))\n",
    "    \n",
    "    if 'reflection' in result:\n",
    "        display(HTML('<h4 style=\"color: #F18F01;\">🤔 Reflection</h4>'))\n",
    "        display(HTML(f'<div style=\"background-color: #fff8e1; padding: 15px; border-radius: 5px; margin-bottom: 20px;\">{result[\"reflection\"].replace(chr(10), \"<br>\")}</div>'))\n",
    "    \n",
    "    if 'nova_final' in result:\n",
    "        display(HTML('<h4 style=\"color: #C73E1D;\">✨ Final Nova-Aligned Prompt</h4>'))\n",
    "        display(HTML(f'<div style=\"background-color: #e8f5e8; padding: 15px; border-radius: 5px; border-left: 4px solid #C73E1D;\"><pre style=\"white-space: pre-wrap; font-family: monospace; font-weight: bold;\">{result[\"nova_final\"]}</pre></div>'))\n",
    "\n",
    "def display_error(error_message, note=None):\n",
    "    display(HTML(f'<div style=\"color: red; padding: 10px; border: 1px solid red; border-radius: 5px;\"><strong>Error:</strong> {error_message}</div>'))\n",
    "    if note:\n",
    "        print(f\"\\nNote: {note}\")\n",
    "\n",
    "print(\"✅ Setup complete!\")"
   ]
  },
  {
   "cell_type": "markdown",
   "metadata": {},
   "source": [
    "---\n",
    "\n",
    "# Improve your Prompt\n",
    "\n",
    "Transform any prompt to align with Amazon Nova guidelines."
   ]
  },
  {
   "cell_type": "code",
   "execution_count": 3,
   "metadata": {
    "ExecuteTime": {
     "end_time": "2025-10-08T12:08:03.554388Z",
     "start_time": "2025-10-08T12:08:03.550257Z"
    },
    "execution": {
     "iopub.execute_input": "2025-10-08T12:22:09.256306Z",
     "iopub.status.busy": "2025-10-08T12:22:09.256228Z",
     "iopub.status.idle": "2025-10-08T12:22:09.259498Z",
     "shell.execute_reply": "2025-10-08T12:22:09.259264Z"
    }
   },
   "outputs": [
    {
     "data": {
      "text/html": [
       "<h3 style=\"color: #2E86AB; border-bottom: 2px solid #2E86AB; padding-bottom: 10px;\">Original Prompt</h3>"
      ],
      "text/plain": [
       "<IPython.core.display.HTML object>"
      ]
     },
     "metadata": {},
     "output_type": "display_data"
    },
    {
     "data": {
      "text/html": [
       "<div style=\"background-color: #f8f9fa; padding: 15px; border-radius: 5px; border-left: 4px solid #6c757d;\"><pre style=\"white-space: pre-wrap; font-family: monospace;\">Summarize the following Document: {document_text}</pre></div>"
      ],
      "text/plain": [
       "<IPython.core.display.HTML object>"
      ]
     },
     "metadata": {},
     "output_type": "display_data"
    },
    {
     "name": "stdout",
     "output_type": "stream",
     "text": [
      "\n",
      "🔄 Transforming to align with Nova guidelines...\n"
     ]
    }
   ],
   "source": [
    "# Example prompt to transform\n",
    "original_prompt = \"\"\"\n",
    "Summarize the following Document: {document_text}\n",
    "\"\"\"\n",
    "\n",
    "display_original_prompt(original_prompt, \"Original Prompt\")\n",
    "print(\"\\n🔄 Transforming to align with Nova guidelines...\")"
   ]
  },
  {
   "cell_type": "code",
   "execution_count": 4,
   "metadata": {
    "ExecuteTime": {
     "end_time": "2025-10-08T12:08:05.600243Z",
     "start_time": "2025-10-08T12:08:03.565777Z"
    },
    "execution": {
     "iopub.execute_input": "2025-10-08T12:22:09.260605Z",
     "iopub.status.busy": "2025-10-08T12:22:09.260537Z",
     "iopub.status.idle": "2025-10-08T12:22:41.662034Z",
     "shell.execute_reply": "2025-10-08T12:22:41.661349Z"
    }
   },
   "outputs": [
    {
     "data": {
      "text/html": [
       "<h4 style=\"color: #2E86AB;\">🧠 Analysis & Thinking</h4>"
      ],
      "text/plain": [
       "<IPython.core.display.HTML object>"
      ]
     },
     "metadata": {},
     "output_type": "display_data"
    },
    {
     "data": {
      "text/html": [
       "<div style=\"background-color: #f8f9fa; padding: 15px; border-radius: 5px; margin-bottom: 20px;\">The original prompt uses XML-style tags (<input_prompt>) which need conversion to Nova's sectional format. The migration guidelines specify converting these to ##Section## headers. The prompt lacks explicit output structure and chain-of-thought instructions that Nova requires. Need to add: 1) Section headers 2) Output schema 3) Step-by-step processing template 4) Format enforcement per Nova's output_control guidelines. The original instruction 'Summarize the following Document' becomes the Task section. The {document_text} variable remains unchanged.</div>"
      ],
      "text/plain": [
       "<IPython.core.display.HTML object>"
      ]
     },
     "metadata": {},
     "output_type": "display_data"
    },
    {
     "data": {
      "text/html": [
       "<h4 style=\"color: #A23B72;\">📝 Nova-Aligned Draft</h4>"
      ],
      "text/plain": [
       "<IPython.core.display.HTML object>"
      ]
     },
     "metadata": {},
     "output_type": "display_data"
    },
    {
     "data": {
      "text/html": [
       "<div style=\"background-color: #fff3e0; padding: 15px; border-radius: 5px; margin-bottom: 20px; border-left: 4px solid #A23B72;\"><pre style=\"white-space: pre-wrap; font-family: monospace;\">##Task##\n",
       "Summarize the provided document\n",
       "\n",
       "##Input##\n",
       "{document_text}\n",
       "\n",
       "##Instructions##\n",
       "1. Read the document carefully\n",
       "2. Identify key points and main arguments\n",
       "3. Condense information while preserving meaning\n",
       "\n",
       "##Output Schema##\n",
       "{\n",
       "  \"type\": \"object\",\n",
       "  \"properties\": {\n",
       "    \"summary\": {\"type\": \"string\"}\n",
       "  },\n",
       "  \"required\": [\"summary\"]\n",
       "}\n",
       "\n",
       "Assistant: ```json\n",
       "{\n",
       "  \"summary\": \"\"  \n",
       "}\n",
       "```\n",
       "\n",
       "DO NOT use any information outside the provided document. Follow the instructions exactly.</pre></div>"
      ],
      "text/plain": [
       "<IPython.core.display.HTML object>"
      ]
     },
     "metadata": {},
     "output_type": "display_data"
    },
    {
     "data": {
      "text/html": [
       "<h4 style=\"color: #F18F01;\">🤔 Reflection</h4>"
      ],
      "text/plain": [
       "<IPython.core.display.HTML object>"
      ]
     },
     "metadata": {},
     "output_type": "display_data"
    },
    {
     "data": {
      "text/html": [
       "<div style=\"background-color: #fff8e1; padding: 15px; border-radius: 5px; margin-bottom: 20px;\">The draft converts XML tags to sections and adds output schema. However: 1) Missing complexity matching examples 2) Needs explicit format enforcement 3) Should use Nova's preferred chain-of-thought template 4) Requires reference section for hallucination prevention. The original prompt's simplicity might need more structure for Nova's processing style.</div>"
      ],
      "text/plain": [
       "<IPython.core.display.HTML object>"
      ]
     },
     "metadata": {},
     "output_type": "display_data"
    },
    {
     "data": {
      "text/html": [
       "<h4 style=\"color: #C73E1D;\">✨ Final Nova-Aligned Prompt</h4>"
      ],
      "text/plain": [
       "<IPython.core.display.HTML object>"
      ]
     },
     "metadata": {},
     "output_type": "display_data"
    },
    {
     "data": {
      "text/html": [
       "<div style=\"background-color: #e8f5e8; padding: 15px; border-radius: 5px; border-left: 4px solid #C73E1D;\"><pre style=\"white-space: pre-wrap; font-family: monospace; font-weight: bold;\">##Task##\n",
       "Summarize the provided document\n",
       "\n",
       "##Input##\n",
       "{document_text}\n",
       "\n",
       "##Instructions##\n",
       "Using the information in ##Input##, create a concise summary. Follow these steps:\n",
       "1. Analyze the document structure\n",
       "2. Extract core arguments and evidence\n",
       "3. Remove redundant details\n",
       "\n",
       "##Output Schema##\n",
       "{\n",
       "  \"type\": \"object\",\n",
       "  \"properties\": {\n",
       "    \"summary\": {\"type\": \"string\", \"maxLength\": 200}\n",
       "  },\n",
       "  \"required\": [\"summary\"]\n",
       "}\n",
       "\n",
       "Assistant: ```json\n",
       "{\n",
       "  \"summary\": \"\"  \n",
       "}\n",
       "```\n",
       "\n",
       "DO NOT use information outside the document. Answer MUST follow JSON format.</pre></div>"
      ],
      "text/plain": [
       "<IPython.core.display.HTML object>"
      ]
     },
     "metadata": {},
     "output_type": "display_data"
    }
   ],
   "source": [
    "# Transform the prompt using default Nova model\n",
    "try:\n",
    "    result = transform_prompt(original_prompt.strip())\n",
    "    display_nova_migration_results(result)\n",
    "except Exception as e:\n",
    "    display_error(str(e), \"This requires AWS credentials and access to Bedrock service.\")"
   ]
  },
  {
   "cell_type": "code",
   "execution_count": 5,
   "metadata": {
    "ExecuteTime": {
     "end_time": "2025-10-08T12:08:05.718597Z",
     "start_time": "2025-10-08T12:08:05.715418Z"
    },
    "execution": {
     "iopub.execute_input": "2025-10-08T12:22:41.666735Z",
     "iopub.status.busy": "2025-10-08T12:22:41.666558Z",
     "iopub.status.idle": "2025-10-08T12:22:41.671116Z",
     "shell.execute_reply": "2025-10-08T12:22:41.670812Z"
    }
   },
   "outputs": [
    {
     "data": {
      "text/html": [
       "<h3 style=\"color: #2E86AB; border-bottom: 2px solid #2E86AB; padding-bottom: 10px;\">Your Prompt</h3>"
      ],
      "text/plain": [
       "<IPython.core.display.HTML object>"
      ]
     },
     "metadata": {},
     "output_type": "display_data"
    },
    {
     "data": {
      "text/html": [
       "<div style=\"background-color: #f8f9fa; padding: 15px; border-radius: 5px; border-left: 4px solid #6c757d;\"><pre style=\"white-space: pre-wrap; font-family: monospace;\">Summarize the following Document: {document_text}</pre></div>"
      ],
      "text/plain": [
       "<IPython.core.display.HTML object>"
      ]
     },
     "metadata": {},
     "output_type": "display_data"
    },
    {
     "name": "stdout",
     "output_type": "stream",
     "text": [
      "\n",
      "🔄 Transforming...\n"
     ]
    }
   ],
   "source": [
    "# Your custom prompt here\n",
    "your_prompt = \"\"\"\n",
    "Summarize the following Document: {document_text}\n",
    "\"\"\"\n",
    "\n",
    "display_original_prompt(your_prompt, \"Your Prompt\")\n",
    "print(\"\\n🔄 Transforming...\")"
   ]
  },
  {
   "cell_type": "markdown",
   "metadata": {},
   "source": [
    "---\n",
    "\n",
    "# Using Alternative Models\n",
    "\n",
    "You can specify a different model for the transformation:"
   ]
  },
  {
   "cell_type": "code",
   "execution_count": 6,
   "metadata": {
    "ExecuteTime": {
     "end_time": "2025-10-08T12:08:06.747292Z",
     "start_time": "2025-10-08T12:08:05.728513Z"
    },
    "execution": {
     "iopub.execute_input": "2025-10-08T12:22:41.672783Z",
     "iopub.status.busy": "2025-10-08T12:22:41.672658Z",
     "iopub.status.idle": "2025-10-08T12:23:07.109940Z",
     "shell.execute_reply": "2025-10-08T12:23:07.108656Z"
    }
   },
   "outputs": [
    {
     "data": {
      "text/html": [
       "<h4 style=\"color: #2E86AB;\">🧠 Analysis & Thinking</h4>"
      ],
      "text/plain": [
       "<IPython.core.display.HTML object>"
      ]
     },
     "metadata": {},
     "output_type": "display_data"
    },
    {
     "data": {
      "text/html": [
       "<div style=\"background-color: #f8f9fa; padding: 15px; border-radius: 5px; margin-bottom: 20px;\"><br>Let me analyze the input prompt for transformation from Claude to Nova format.<br><br>**Original Prompt Analysis:**<br>- Very simple, direct instruction: \"Summarize the following Document: {document_text}\"<br>- Uses a variable placeholder: {document_text}<br>- No XML tags or complex structure<br>- No explicit output format specified<br>- No chain of thought instructions<br>- No examples provided<br>- No role definition<br><br>**Model-Specific Features to Address:**<br>1. Structure: The prompt is already simple, but Nova prefers sectional format with ## headers<br>2. Variable reference: Need to make the document reference explicit<br>3. Output control: Should add clear output expectations<br>4. Hallucination prevention: Should add constraints to only use information from the document<br>5. No chain of thought currently - could benefit from structured thinking for better summaries<br><br>**Relevant Migration Guidelines:**<br><br>From <structural_changes>:<br>- \"Convert Flexible XML to Sectional Format\" - While there's no XML here, we should use ## headers for structure<br>- \"Add Section References\" - Should explicitly reference sections when giving instructions<br><br>From <hallucination_prevention>:<br>- \"Add Reference Text Section\" with instructions to \"Use ONLY information from ##Reference## section\"<br>- \"Add Explicit Constraints\" - \"DO NOT USE INFORMATION THAT IS NOT IN REFERENCE TEXTS!\"<br><br>From <output_control>:<br>- \"Add Explicit Schema Definitions\" - Should specify what the summary output should contain<br>- \"Add Format Enforcement\" - Clear instructions on output format<br><br>From <chain_of_thought>:<br>- Could use Template 1 or Template 2 for step-by-step summarization<br><br>**Required Optimizations:**<br>1. Add sectional structure with ## headers<br>2. Separate the document content into a ##Document## section<br>3. Add explicit task instructions<br>4. Add hallucination prevention constraints<br>5. Add output format specifications<br>6. Consider adding step-by-step guidance for better summaries<br><br>**Nova Compatibility Considerations:**<br>- Nova Premier handles extended context well, so document can be in a reference section<br>- Nova responds well to explicit, structured instructions<br>- Clear section headers improve Nova's understanding<br>- Explicit constraints prevent hallucination<br><br>**Format Adjustments:**<br>- Use ##Document## section for the input document<br>- Use ##Task## section for the summarization instruction<br>- Add ##Instructions## for specific guidance<br>- Add output format requirements<br></div>"
      ],
      "text/plain": [
       "<IPython.core.display.HTML object>"
      ]
     },
     "metadata": {},
     "output_type": "display_data"
    },
    {
     "data": {
      "text/html": [
       "<h4 style=\"color: #A23B72;\">📝 Nova-Aligned Draft</h4>"
      ],
      "text/plain": [
       "<IPython.core.display.HTML object>"
      ]
     },
     "metadata": {},
     "output_type": "display_data"
    },
    {
     "data": {
      "text/html": [
       "<div style=\"background-color: #fff3e0; padding: 15px; border-radius: 5px; margin-bottom: 20px; border-left: 4px solid #A23B72;\"><pre style=\"white-space: pre-wrap; font-family: monospace;\">\n",
       "##Document##\n",
       "{document_text}\n",
       "\n",
       "##Task##\n",
       "Summarize the document provided in the ##Document## section above.\n",
       "\n",
       "##Instructions##\n",
       "- Use ONLY information from the ##Document## section\n",
       "- DO NOT include information that is not present in the document\n",
       "- Create a concise summary that captures the main points and key information\n",
       "- Maintain accuracy to the source material\n",
       "\n",
       "##Output##\n",
       "Provide your summary in clear, concise prose.\n",
       "</pre></div>"
      ],
      "text/plain": [
       "<IPython.core.display.HTML object>"
      ]
     },
     "metadata": {},
     "output_type": "display_data"
    },
    {
     "data": {
      "text/html": [
       "<h4 style=\"color: #F18F01;\">🤔 Reflection</h4>"
      ],
      "text/plain": [
       "<IPython.core.display.HTML object>"
      ]
     },
     "metadata": {},
     "output_type": "display_data"
    },
    {
     "data": {
      "text/html": [
       "<div style=\"background-color: #fff8e1; padding: 15px; border-radius: 5px; margin-bottom: 20px;\"><br>The draft prompt successfully transforms the simple Claude prompt into Nova's preferred sectional format. Let me evaluate:<br><br>**Strengths:**<br>- Clear sectional structure with ## headers<br>- Explicit reference to the ##Document## section<br>- Hallucination prevention constraints added<br>- Output expectations specified<br>- Preserves the original variable {document_text}<br><br>**Areas for Improvement:**<br>1. Could add more specific guidance on what makes a good summary (length, structure)<br>2. The output section could be more detailed about expected format<br>3. Could consider adding step-by-step thinking for better quality summaries<br>4. The instructions could be more explicit about the summarization approach<br><br>**Compatibility Check:**<br>- ✓ Uses ## section headers (Nova format)<br>- ✓ Explicit section references<br>- ✓ Hallucination prevention included<br>- ✓ Clear task definition<br>- ✓ Original functionality preserved (summarization of document)<br><br>**Suggested Enhancements:**<br>- Add more specific output guidance<br>- Consider adding a thinking step for complex documents<br>- Make instructions more actionable<br><br>The draft is functional but could be enhanced with more specific guidance while keeping it concise.<br></div>"
      ],
      "text/plain": [
       "<IPython.core.display.HTML object>"
      ]
     },
     "metadata": {},
     "output_type": "display_data"
    },
    {
     "data": {
      "text/html": [
       "<h4 style=\"color: #C73E1D;\">✨ Final Nova-Aligned Prompt</h4>"
      ],
      "text/plain": [
       "<IPython.core.display.HTML object>"
      ]
     },
     "metadata": {},
     "output_type": "display_data"
    },
    {
     "data": {
      "text/html": [
       "<div style=\"background-color: #e8f5e8; padding: 15px; border-radius: 5px; border-left: 4px solid #C73E1D;\"><pre style=\"white-space: pre-wrap; font-family: monospace; font-weight: bold;\">\n",
       "##Document##\n",
       "{document_text}\n",
       "\n",
       "##Task##\n",
       "Summarize the document provided in the ##Document## section above.\n",
       "\n",
       "##Instructions##\n",
       "- Read and analyze the content in the ##Document## section carefully\n",
       "- Use ONLY information from the ##Document## section\n",
       "- DO NOT include information that is not present in the document\n",
       "- Identify the main points, key arguments, and important details\n",
       "- Create a concise summary that captures the essential information\n",
       "- Maintain accuracy and fidelity to the source material\n",
       "\n",
       "##Output##\n",
       "Provide your summary in clear, well-organized prose that effectively communicates the document's core content.\n",
       "</pre></div>"
      ],
      "text/plain": [
       "<IPython.core.display.HTML object>"
      ]
     },
     "metadata": {},
     "output_type": "display_data"
    }
   ],
   "source": [
    "# Use Claude Sonnet 4.5 instead of Nova Premier\n",
    "try:\n",
    "    result_claude = transform_prompt(\n",
    "        your_prompt.strip(),\n",
    "        model_id='global.anthropic.claude-sonnet-4-5-20250929-v1:0'\n",
    "    )\n",
    "    display_nova_migration_results(result_claude)\n",
    "except Exception as e:\n",
    "    display_error(str(e), \"This requires AWS credentials and access to Bedrock service.\")"
   ]
  },
  {
   "cell_type": "markdown",
   "metadata": {},
   "source": [
    "---\n",
    "\n",
    "# Summary\n",
    "\n",
    "The Amazon Nova Meta Prompter:\n",
    "\n",
    "## **What it does:**\n",
    "- Analyzes your existing prompts\n",
    "- Identifies alignment opportunities with Nova guidelines\n",
    "- Adapts prompts for Nova models' capabilities\n",
    "- Provides detailed reasoning and reflection\n",
    "\n",
    "## **Nova Guidelines Applied:**\n",
    "- Clear section headers (##)\n",
    "- Specific task descriptions\n",
    "- Contextual information\n",
    "- Step-by-step instructions\n",
    "- Structured output requirements\n"
   ]
  }
 ],
 "metadata": {
  "kernelspec": {
   "display_name": "Python 3",
   "language": "python",
   "name": "python3"
  },
  "language_info": {
   "codemirror_mode": {
    "name": "ipython",
    "version": 3
   },
   "file_extension": ".py",
   "mimetype": "text/x-python",
   "name": "python",
   "nbconvert_exporter": "python",
   "pygments_lexer": "ipython3",
   "version": "3.13.1"
  }
 },
 "nbformat": 4,
 "nbformat_minor": 4
}
